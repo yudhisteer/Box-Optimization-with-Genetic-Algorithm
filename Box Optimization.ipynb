{
 "cells": [
  {
   "cell_type": "markdown",
   "metadata": {},
   "source": [
    "## Product Class"
   ]
  },
  {
   "cell_type": "code",
   "execution_count": null,
   "metadata": {},
   "outputs": [],
   "source": [
    "class Product():\n",
    "    def __init__(self, name, space, priority):\n",
    "        self.name = name\n",
    "        self.space = space\n",
    "        self.priority = priority"
   ]
  },
  {
   "cell_type": "code",
   "execution_count": 2,
   "metadata": {},
   "outputs": [],
   "source": [
    "p1 = Product('Item 1', 0.751, 1)\n",
    "\n",
    "p1.name, p1.space, p1.priority"
   ]
  },
  {
   "cell_type": "code",
   "execution_count": 3,
   "metadata": {},
   "outputs": [],
   "source": [
    "products_list = []\n",
    "products_list.append(Product('Item 1', 0.751, 1))\n",
    "products_list.append(Product('Item 2', 0.0000899, 3))\n",
    "products_list.append(Product('Item 3', 0.400, 5))\n",
    "products_list.append(Product('Item 4', 0.290, 5))\n",
    "products_list.append(Product('Item 5', 0.200, 4))\n",
    "products_list.append(Product('Item 6', 0.00350, 4))\n",
    "products_list.append(Product('Item 7', 0.496, 1))\n",
    "products_list.append(Product('Item 8', 0.0424, 2))\n",
    "products_list.append(Product('Item 9', 0.0319, 1))\n",
    "products_list.append(Product('Item 10', 0.635, 2))\n",
    "products_list.append(Product('Item 11', 0.870, 3))\n",
    "products_list.append(Product('Item 12', 0.498, 3))\n",
    "products_list.append(Product('Item 13', 0.0544, 1))\n",
    "products_list.append(Product('Item 14', 0.527, 5))\n",
    "products_list.append(Product('Item 15', 0.353, 2))"
   ]
  },
  {
   "cell_type": "code",
   "execution_count": 4,
   "metadata": {},
   "outputs": [
    {
     "name": "stdout",
     "output_type": "stream",
     "text": [
      "Item 1  -  0.751  -  1\n",
      "Item 2  -  8.99e-05  -  3\n",
      "Item 3  -  0.4  -  5\n",
      "Item 4  -  0.29  -  5\n",
      "Item 5  -  0.2  -  4\n",
      "Item 6  -  0.0035  -  4\n",
      "Item 7  -  0.496  -  1\n",
      "Item 8  -  0.0424  -  2\n",
      "Item 9  -  0.0319  -  1\n",
      "Item 10  -  0.635  -  2\n",
      "Item 11  -  0.87  -  3\n",
      "Item 12  -  0.498  -  3\n",
      "Item 13  -  0.0544  -  1\n",
      "Item 14  -  0.527  -  5\n",
      "Item 15  -  0.353  -  2\n"
     ]
    }
   ],
   "source": [
    "for product in products_list:\n",
    "    print(product.name, ' - ', product.space, ' - ', product.priority)"
   ]
  },
  {
   "cell_type": "markdown",
   "metadata": {},
   "source": [
    "# Individual Class"
   ]
  },
  {
   "cell_type": "code",
   "execution_count": 5,
   "metadata": {},
   "outputs": [],
   "source": [
    "from random import random"
   ]
  },
  {
   "cell_type": "code",
   "execution_count": 6,
   "metadata": {},
   "outputs": [],
   "source": [
    "class Individual():\n",
    "    def __init__(self, spaces, priorities, space_limit, generation=0):\n",
    "        self.spaces = spaces\n",
    "        self.priorities = priorities\n",
    "        self.space_limit = space_limit\n",
    "        self.score_evaluation = 0\n",
    "        self.used_space = 0\n",
    "        self.generation = generation\n",
    "        self.chromosome = []\n",
    "        \n",
    "        for i in range(len(spaces)):  ## we have range(len(spaces)) = 15\n",
    "            if random() < 0.5:\n",
    "                self.chromosome.append('0')\n",
    "            else:\n",
    "                self.chromosome.append('1')\n",
    "                \n",
    "                \n",
    "    def fitness(self):\n",
    "        score = 0\n",
    "        sum_spaces = 0\n",
    "        \n",
    "        for i in range(len(self.chromosome)):  #len(chromosome) = 15\n",
    "            if self.chromosome[i] == '1':\n",
    "                score += self.priorities[i]\n",
    "                sum_spaces += self.spaces[i]\n",
    "                \n",
    "        if sum_spaces > self.space_limit:\n",
    "            score = 1            # asssign low score if exceed space limit\n",
    "            \n",
    "        self.score_evaluation = score\n",
    "        self.used_space = sum_spaces\n",
    "        \n",
    "    def crossover(self,other_individual):\n",
    "        cutoff = round(random() * len(self.chromosome)) #to ensure cutoff between 0-15\n",
    "        #print('Cutoff: ', cutoff)\n",
    "        \n",
    "        child1 = other_individual.chromosome[0:cutoff] + self.chromosome[cutoff::]\n",
    "        child2 = self.chromosome[0:cutoff] + other_individual.chromosome[cutoff::]\n",
    "        \n",
    "#         print('Child 1: ', child1)\n",
    "#         print('Child 2: ',child2)\n",
    "        \n",
    "        children = [Individual(self.spaces, self.priorities, self.space_limit, self.generation+1),\n",
    "                   Individual(self.spaces, self.priorities, self.space_limit, self.generation+1)]\n",
    "        \n",
    "        children[0].chromosome = child1\n",
    "        children[1].chromosome = child2\n",
    "        return children\n",
    "    \n",
    "    \n",
    "    def mutation(self, rate):\n",
    "        #print('Before mutation: ', self.chromosome)\n",
    "        mutation_number = 0\n",
    "        for i in range(len(self.chromosome)): #accesing each gene in a chromosome\n",
    "            if random() < rate: \n",
    "                mutation_number += 1\n",
    "                #print('Mutation occuring...')\n",
    "                if self.chromosome[i] == '1':\n",
    "                    self.chromosome[i] = '0'          \n",
    "                else:\n",
    "                    self. chromosome[i] = '1'\n",
    "        #print('Number of mutations occurred: ', mutation_number)           \n",
    "        #print('After mutation: ', self.chromosome)\n",
    "        return self"
   ]
  },
  {
   "cell_type": "markdown",
   "metadata": {},
   "source": [
    "# Genetic Algorithm Class"
   ]
  },
  {
   "cell_type": "code",
   "execution_count": 7,
   "metadata": {},
   "outputs": [],
   "source": [
    "class GeneticAlgorithm():\n",
    "    def __init__(self, population_size):\n",
    "        self.population_size = population_size\n",
    "        self.population = []\n",
    "        self.generation = 0\n",
    "        self.best_solution = None\n",
    "        self.list_of_solutions_score = []\n",
    "        self.list_of_solutions_space = []\n",
    "        \n",
    "    def initialize_population(self, spaces, priorities, space_limit):\n",
    "        for i in range(self.population_size):\n",
    "            self.population.append(Individual(spaces, priorities, space_limit)) #creating individuals\n",
    "            \n",
    "        self.best_solution = self.population[0] #initialize\n",
    "        \n",
    "    def order_population(self):\n",
    "        self.population = sorted(self.population, key=lambda population: population.score_evaluation, reverse=True)\n",
    "        \n",
    "    def best_individual(self, individual):\n",
    "        if individual.score_evaluation > self.best_solution.score_evaluation:\n",
    "            self.best_solution = individual\n",
    "            \n",
    "    def sum_evaluations(self):\n",
    "        sum = 0\n",
    "        for individual in self.population:\n",
    "            sum += individual.score_evaluation\n",
    "        return sum\n",
    "    \n",
    "    def select_parent(self, sum_evaluation):\n",
    "        parent = -1 #random initialization for variable\n",
    "        random_value = random() * sum_evaluation\n",
    "        sum = 0\n",
    "        i = 0\n",
    "        #print('Random value: ', random_value)\n",
    "        while i < (len(self.population)) and sum < random_value:\n",
    "            sum += self.population[i].score_evaluation\n",
    "            #print('i: ', i, ' - ', 'Sum:', sum)\n",
    "            parent += 1\n",
    "            i += 1\n",
    "            \n",
    "#         print('Chromosome: ', ga.population[parent].chromosome)\n",
    "#         print('Used Space: ', ga.population[parent].used_space)\n",
    "#         print('Score: ', ga.population[parent].score_evaluation)\n",
    "        return parent\n",
    "\n",
    "\n",
    "    def visualize_generation(self):\n",
    "        best = self.population[0]\n",
    "        print('Generation: ', self.population[0].generation, ' - ',\n",
    "             'Total priorities: ', best.score_evaluation, ' - ',\n",
    "             'Total Space Used: ', best.used_space, ' - ',\n",
    "            'Chromosome: ', best.chromosome)\n",
    "        \n",
    "        \n",
    "    def solve(self, mutation_probability, number_of_generations, spaces, prices, limit):\n",
    "        \n",
    "        # create initial population\n",
    "        self.initialize_population(spaces, prices, limit)\n",
    "        \n",
    "        # calculate fitness score for each individual\n",
    "        for individual in self.population:\n",
    "            individual.fitness()\n",
    "            \n",
    "        # order individuals to put fittest first\n",
    "        self.order_population()\n",
    "        \n",
    "        #--------------------------------------\n",
    "        self.best_solution = self.population[0]\n",
    "        self.list_of_solutions_score.append(self.best_solution.score_evaluation)\n",
    "        self.list_of_solutions_space.append(self.best_solution.used_space)\n",
    "        \n",
    "        # visualize fittest individual\n",
    "        self.visualize_generation()\n",
    "        \n",
    "        # Stopping criterion - number of generations to create\n",
    "        for generation in range(number_of_generations):\n",
    "            sum = self.sum_evaluations()\n",
    "            new_population = []\n",
    "            for new_individuals in range(0, ga.population_size, 2): # 0, 2, 4,... , 18 \n",
    "                \n",
    "                # select parents\n",
    "                parent1 = self.select_parent(sum)\n",
    "                parent2 = self.select_parent(sum)\n",
    "                \n",
    "                # create new children\n",
    "                children = self.population[parent1].crossover(ga.population[parent2])\n",
    "                \n",
    "                # apply mutation and append children to new population\n",
    "                new_population.append( children[0].mutation(mutation_probability))\n",
    "                new_population.append( children[1].mutation(mutation_probability))\n",
    "             \n",
    "            # discard old population\n",
    "            self.population = list(new_population)\n",
    "           \n",
    "            #evaluate current population\n",
    "            for individual in self.population:\n",
    "                individual.fitness()\n",
    "                \n",
    "            # visualize best individual in each generation\n",
    "            self.visualize_generation()\n",
    "            best = self.population[0]\n",
    "            self.list_of_solutions_score.append(best.score_evaluation)\n",
    "            self.list_of_solutions_space.append(best.used_space)\n",
    "            self.best_individual(best)\n",
    "        \n",
    "        print('\\n','*** Best Solution ***', '\\n',\n",
    "            'Generation: ', self.best_solution.generation, '\\n',\n",
    "            'Chromosome: ', self.best_solution.chromosome, '\\n',\n",
    "            'Total priorities: ', self.best_solution.score_evaluation, '\\n',\n",
    "            'Total Space Used: ', self.best_solution.used_space, '\\n',\n",
    "             'Percentage of volume used: ', round((self.best_solution.used_space/limit),3) * 100, '%')\n",
    "    \n",
    "        return self.best_solution.chromosome\n",
    "            \n",
    "            "
   ]
  },
  {
   "cell_type": "markdown",
   "metadata": {},
   "source": [
    "# Code Testing"
   ]
  },
  {
   "cell_type": "code",
   "execution_count": 8,
   "metadata": {},
   "outputs": [],
   "source": [
    "names = []\n",
    "spaces = []\n",
    "priorities = []\n",
    "space_limit = 3\n",
    "for product in products_list:\n",
    "    names.append(product.name)\n",
    "    spaces.append(product.space)\n",
    "    priorities.append(product.priority)"
   ]
  },
  {
   "cell_type": "code",
   "execution_count": 9,
   "metadata": {},
   "outputs": [
    {
     "data": {
      "text/plain": [
       "(['Item 1',\n",
       "  'Item 2',\n",
       "  'Item 3',\n",
       "  'Item 4',\n",
       "  'Item 5',\n",
       "  'Item 6',\n",
       "  'Item 7',\n",
       "  'Item 8',\n",
       "  'Item 9',\n",
       "  'Item 10',\n",
       "  'Item 11',\n",
       "  'Item 12',\n",
       "  'Item 13',\n",
       "  'Item 14',\n",
       "  'Item 15'],\n",
       " [0.751,\n",
       "  8.99e-05,\n",
       "  0.4,\n",
       "  0.29,\n",
       "  0.2,\n",
       "  0.0035,\n",
       "  0.496,\n",
       "  0.0424,\n",
       "  0.0319,\n",
       "  0.635,\n",
       "  0.87,\n",
       "  0.498,\n",
       "  0.0544,\n",
       "  0.527,\n",
       "  0.353],\n",
       " [1, 3, 5, 5, 4, 4, 1, 2, 1, 2, 3, 3, 1, 5, 2])"
      ]
     },
     "execution_count": 9,
     "metadata": {},
     "output_type": "execute_result"
    }
   ],
   "source": [
    "names, spaces, priorities"
   ]
  },
  {
   "cell_type": "code",
   "execution_count": 10,
   "metadata": {},
   "outputs": [
    {
     "data": {
      "text/plain": [
       "('Item 6', 0.0035, 4)"
      ]
     },
     "execution_count": 10,
     "metadata": {},
     "output_type": "execute_result"
    }
   ],
   "source": [
    "names[5], spaces[5], priorities[5]"
   ]
  },
  {
   "cell_type": "code",
   "execution_count": 11,
   "metadata": {},
   "outputs": [
    {
     "name": "stdout",
     "output_type": "stream",
     "text": [
      "Name:  Item 2\n",
      "Name:  Item 3\n",
      "Name:  Item 7\n",
      "Name:  Item 9\n",
      "Name:  Item 10\n",
      "Name:  Item 11\n",
      "Name:  Item 12\n",
      "Name:  Item 13\n",
      "Score:  19\n",
      "Used space:  2.9853899\n",
      "Chromosome:  ['0', '1', '1', '0', '0', '0', '1', '0', '1', '1', '1', '1', '1', '0', '0']\n"
     ]
    }
   ],
   "source": [
    "individual1 = Individual(spaces, priorities, space_limit)\n",
    "\n",
    "#print('Spaces: ', individual1.spaces)\n",
    "#print('Priorities: ', individual1.priorities)\n",
    "#print('Chromosome: ', individual1.chromosome)\n",
    "\n",
    "for i in range(len(products_list)):\n",
    "    if individual1.chromosome[i] == '1':\n",
    "        print('Name: ', products_list[i].name)\n",
    "        \n",
    "individual1.fitness()\n",
    "print('Score: ', individual1.score_evaluation)\n",
    "print('Used space: ', individual1.used_space)\n",
    "print('Chromosome: ', individual1.chromosome)"
   ]
  },
  {
   "cell_type": "code",
   "execution_count": 12,
   "metadata": {},
   "outputs": [
    {
     "name": "stdout",
     "output_type": "stream",
     "text": [
      "Name:  Item 3\n",
      "Name:  Item 4\n",
      "Name:  Item 5\n",
      "Name:  Item 10\n",
      "Name:  Item 15\n",
      "Score:  18\n",
      "Used space:  1.878\n",
      "Chromosome:  ['0', '0', '1', '1', '1', '0', '0', '0', '0', '1', '0', '0', '0', '0', '1']\n"
     ]
    }
   ],
   "source": [
    "individual2 = Individual(spaces, priorities, space_limit)\n",
    "\n",
    "#print('Spaces: ', individual2.spaces)\n",
    "#print('Priorities: ', individual2.priorities)\n",
    "#print('Chromosome: ', individual2.chromosome)\n",
    "\n",
    "for i in range(len(products_list)):\n",
    "    if individual2.chromosome[i] == '1':\n",
    "        print('Name: ', products_list[i].name)\n",
    "        \n",
    "individual2.fitness()\n",
    "print('Score: ', individual2.score_evaluation)\n",
    "print('Used space: ', individual2.used_space)\n",
    "print('Chromosome: ', individual2.chromosome)"
   ]
  },
  {
   "cell_type": "code",
   "execution_count": 13,
   "metadata": {},
   "outputs": [],
   "source": [
    "children = individual1.crossover(individual2)"
   ]
  },
  {
   "cell_type": "code",
   "execution_count": 14,
   "metadata": {},
   "outputs": [
    {
     "name": "stdout",
     "output_type": "stream",
     "text": [
      "Score:  19\n",
      "Used space:  2.9853899\n",
      "Chromosome:  ['0', '1', '1', '0', '0', '0', '1', '0', '1', '1', '1', '1', '1', '0', '0']\n"
     ]
    }
   ],
   "source": [
    "children[0].fitness()\n",
    "print('Score: ',children[0].score_evaluation)\n",
    "print('Used space: ', children[0].used_space)\n",
    "print('Chromosome: ', children[0].chromosome)"
   ]
  },
  {
   "cell_type": "code",
   "execution_count": 15,
   "metadata": {},
   "outputs": [
    {
     "name": "stdout",
     "output_type": "stream",
     "text": [
      "Score:  18\n",
      "Used space:  1.878\n",
      "Chromosome:  ['0', '0', '1', '1', '1', '0', '0', '0', '0', '1', '0', '0', '0', '0', '1']\n"
     ]
    }
   ],
   "source": [
    "children[1].fitness()\n",
    "print('Score: ',children[1].score_evaluation)\n",
    "print('Used space: ', children[1].used_space)\n",
    "print('Chromosome: ', children[1].chromosome)"
   ]
  },
  {
   "cell_type": "code",
   "execution_count": 16,
   "metadata": {},
   "outputs": [
    {
     "data": {
      "text/plain": [
       "<__main__.Individual at 0x16f2ecfcd30>"
      ]
     },
     "execution_count": 16,
     "metadata": {},
     "output_type": "execute_result"
    }
   ],
   "source": [
    "individual1.mutation(0.05)"
   ]
  },
  {
   "cell_type": "code",
   "execution_count": 17,
   "metadata": {},
   "outputs": [],
   "source": [
    "population_size = 20\n",
    "ga = GeneticAlgorithm(population_size)\n",
    "ga.initialize_population(spaces, priorities, space_limit)"
   ]
  },
  {
   "cell_type": "code",
   "execution_count": 18,
   "metadata": {},
   "outputs": [
    {
     "data": {
      "text/plain": [
       "['1', '1', '0', '1', '1', '0', '1', '0', '0', '1', '1', '1', '1', '1', '1']"
      ]
     },
     "execution_count": 18,
     "metadata": {},
     "output_type": "execute_result"
    }
   ],
   "source": [
    "ga.population[5].chromosome"
   ]
  },
  {
   "cell_type": "code",
   "execution_count": 19,
   "metadata": {},
   "outputs": [
    {
     "name": "stdout",
     "output_type": "stream",
     "text": [
      "Individual:  0 \n",
      "Spaces:  [0.751, 8.99e-05, 0.4, 0.29, 0.2, 0.0035, 0.496, 0.0424, 0.0319, 0.635, 0.87, 0.498, 0.0544, 0.527, 0.353] \n",
      "Priorities:  [1, 3, 5, 5, 4, 4, 1, 2, 1, 2, 3, 3, 1, 5, 2] \n",
      "Chromosome:  ['0', '1', '1', '1', '1', '0', '1', '1', '0', '0', '0', '1', '1', '0', '1'] \n",
      "Space Used:  2.3338899 \n",
      "Score:  26 \n",
      "\n",
      "Individual:  1 \n",
      "Spaces:  [0.751, 8.99e-05, 0.4, 0.29, 0.2, 0.0035, 0.496, 0.0424, 0.0319, 0.635, 0.87, 0.498, 0.0544, 0.527, 0.353] \n",
      "Priorities:  [1, 3, 5, 5, 4, 4, 1, 2, 1, 2, 3, 3, 1, 5, 2] \n",
      "Chromosome:  ['0', '1', '0', '1', '0', '1', '0', '1', '0', '1', '0', '1', '0', '1', '1'] \n",
      "Space Used:  2.3489899000000003 \n",
      "Score:  26 \n",
      "\n",
      "Individual:  2 \n",
      "Spaces:  [0.751, 8.99e-05, 0.4, 0.29, 0.2, 0.0035, 0.496, 0.0424, 0.0319, 0.635, 0.87, 0.498, 0.0544, 0.527, 0.353] \n",
      "Priorities:  [1, 3, 5, 5, 4, 4, 1, 2, 1, 2, 3, 3, 1, 5, 2] \n",
      "Chromosome:  ['1', '1', '1', '1', '1', '1', '1', '1', '0', '0', '0', '0', '0', '0', '0'] \n",
      "Space Used:  2.1829899000000004 \n",
      "Score:  25 \n",
      "\n",
      "Individual:  3 \n",
      "Spaces:  [0.751, 8.99e-05, 0.4, 0.29, 0.2, 0.0035, 0.496, 0.0424, 0.0319, 0.635, 0.87, 0.498, 0.0544, 0.527, 0.353] \n",
      "Priorities:  [1, 3, 5, 5, 4, 4, 1, 2, 1, 2, 3, 3, 1, 5, 2] \n",
      "Chromosome:  ['0', '0', '1', '1', '1', '0', '1', '0', '0', '0', '0', '1', '0', '1', '1'] \n",
      "Space Used:  2.7640000000000002 \n",
      "Score:  25 \n",
      "\n",
      "Individual:  4 \n",
      "Spaces:  [0.751, 8.99e-05, 0.4, 0.29, 0.2, 0.0035, 0.496, 0.0424, 0.0319, 0.635, 0.87, 0.498, 0.0544, 0.527, 0.353] \n",
      "Priorities:  [1, 3, 5, 5, 4, 4, 1, 2, 1, 2, 3, 3, 1, 5, 2] \n",
      "Chromosome:  ['0', '1', '1', '1', '0', '0', '0', '1', '1', '0', '0', '0', '0', '1', '1'] \n",
      "Space Used:  1.6443899 \n",
      "Score:  23 \n",
      "\n",
      "Individual:  5 \n",
      "Spaces:  [0.751, 8.99e-05, 0.4, 0.29, 0.2, 0.0035, 0.496, 0.0424, 0.0319, 0.635, 0.87, 0.498, 0.0544, 0.527, 0.353] \n",
      "Priorities:  [1, 3, 5, 5, 4, 4, 1, 2, 1, 2, 3, 3, 1, 5, 2] \n",
      "Chromosome:  ['0', '0', '0', '1', '0', '1', '1', '1', '1', '0', '0', '1', '0', '1', '1'] \n",
      "Space Used:  2.2418000000000005 \n",
      "Score:  23 \n",
      "\n",
      "Individual:  6 \n",
      "Spaces:  [0.751, 8.99e-05, 0.4, 0.29, 0.2, 0.0035, 0.496, 0.0424, 0.0319, 0.635, 0.87, 0.498, 0.0544, 0.527, 0.353] \n",
      "Priorities:  [1, 3, 5, 5, 4, 4, 1, 2, 1, 2, 3, 3, 1, 5, 2] \n",
      "Chromosome:  ['0', '1', '1', '0', '0', '1', '0', '0', '0', '0', '1', '0', '0', '1', '1'] \n",
      "Space Used:  2.1535899 \n",
      "Score:  22 \n",
      "\n",
      "Individual:  7 \n",
      "Spaces:  [0.751, 8.99e-05, 0.4, 0.29, 0.2, 0.0035, 0.496, 0.0424, 0.0319, 0.635, 0.87, 0.498, 0.0544, 0.527, 0.353] \n",
      "Priorities:  [1, 3, 5, 5, 4, 4, 1, 2, 1, 2, 3, 3, 1, 5, 2] \n",
      "Chromosome:  ['1', '0', '1', '1', '0', '1', '1', '0', '0', '0', '0', '0', '0', '1', '0'] \n",
      "Space Used:  2.4675000000000002 \n",
      "Score:  21 \n",
      "\n",
      "Individual:  8 \n",
      "Spaces:  [0.751, 8.99e-05, 0.4, 0.29, 0.2, 0.0035, 0.496, 0.0424, 0.0319, 0.635, 0.87, 0.498, 0.0544, 0.527, 0.353] \n",
      "Priorities:  [1, 3, 5, 5, 4, 4, 1, 2, 1, 2, 3, 3, 1, 5, 2] \n",
      "Chromosome:  ['0', '0', '0', '1', '0', '1', '0', '1', '0', '1', '0', '0', '0', '1', '1'] \n",
      "Space Used:  1.8509 \n",
      "Score:  20 \n",
      "\n",
      "Individual:  9 \n",
      "Spaces:  [0.751, 8.99e-05, 0.4, 0.29, 0.2, 0.0035, 0.496, 0.0424, 0.0319, 0.635, 0.87, 0.498, 0.0544, 0.527, 0.353] \n",
      "Priorities:  [1, 3, 5, 5, 4, 4, 1, 2, 1, 2, 3, 3, 1, 5, 2] \n",
      "Chromosome:  ['1', '1', '0', '1', '0', '1', '1', '0', '0', '1', '0', '1', '0', '0', '0'] \n",
      "Space Used:  2.6735899000000005 \n",
      "Score:  19 \n",
      "\n",
      "Individual:  10 \n",
      "Spaces:  [0.751, 8.99e-05, 0.4, 0.29, 0.2, 0.0035, 0.496, 0.0424, 0.0319, 0.635, 0.87, 0.498, 0.0544, 0.527, 0.353] \n",
      "Priorities:  [1, 3, 5, 5, 4, 4, 1, 2, 1, 2, 3, 3, 1, 5, 2] \n",
      "Chromosome:  ['1', '0', '1', '0', '0', '0', '0', '0', '0', '1', '0', '0', '1', '1', '1'] \n",
      "Space Used:  2.7203999999999997 \n",
      "Score:  16 \n",
      "\n",
      "Individual:  11 \n",
      "Spaces:  [0.751, 8.99e-05, 0.4, 0.29, 0.2, 0.0035, 0.496, 0.0424, 0.0319, 0.635, 0.87, 0.498, 0.0544, 0.527, 0.353] \n",
      "Priorities:  [1, 3, 5, 5, 4, 4, 1, 2, 1, 2, 3, 3, 1, 5, 2] \n",
      "Chromosome:  ['0', '0', '0', '0', '1', '1', '1', '1', '0', '0', '0', '1', '0', '0', '0'] \n",
      "Space Used:  1.2399 \n",
      "Score:  14 \n",
      "\n",
      "Individual:  12 \n",
      "Spaces:  [0.751, 8.99e-05, 0.4, 0.29, 0.2, 0.0035, 0.496, 0.0424, 0.0319, 0.635, 0.87, 0.498, 0.0544, 0.527, 0.353] \n",
      "Priorities:  [1, 3, 5, 5, 4, 4, 1, 2, 1, 2, 3, 3, 1, 5, 2] \n",
      "Chromosome:  ['1', '0', '1', '0', '0', '1', '0', '0', '0', '0', '0', '1', '0', '0', '0'] \n",
      "Space Used:  1.6525 \n",
      "Score:  13 \n",
      "\n",
      "Individual:  13 \n",
      "Spaces:  [0.751, 8.99e-05, 0.4, 0.29, 0.2, 0.0035, 0.496, 0.0424, 0.0319, 0.635, 0.87, 0.498, 0.0544, 0.527, 0.353] \n",
      "Priorities:  [1, 3, 5, 5, 4, 4, 1, 2, 1, 2, 3, 3, 1, 5, 2] \n",
      "Chromosome:  ['1', '1', '0', '0', '0', '1', '1', '1', '0', '1', '1', '1', '1', '1', '1'] \n",
      "Space Used:  4.2303899000000005 \n",
      "Score:  1 \n",
      "\n",
      "Individual:  14 \n",
      "Spaces:  [0.751, 8.99e-05, 0.4, 0.29, 0.2, 0.0035, 0.496, 0.0424, 0.0319, 0.635, 0.87, 0.498, 0.0544, 0.527, 0.353] \n",
      "Priorities:  [1, 3, 5, 5, 4, 4, 1, 2, 1, 2, 3, 3, 1, 5, 2] \n",
      "Chromosome:  ['0', '0', '1', '0', '1', '0', '0', '1', '0', '1', '1', '1', '1', '1', '1'] \n",
      "Space Used:  3.5798000000000005 \n",
      "Score:  1 \n",
      "\n",
      "Individual:  15 \n",
      "Spaces:  [0.751, 8.99e-05, 0.4, 0.29, 0.2, 0.0035, 0.496, 0.0424, 0.0319, 0.635, 0.87, 0.498, 0.0544, 0.527, 0.353] \n",
      "Priorities:  [1, 3, 5, 5, 4, 4, 1, 2, 1, 2, 3, 3, 1, 5, 2] \n",
      "Chromosome:  ['1', '1', '0', '1', '1', '0', '1', '0', '0', '1', '1', '1', '1', '1', '1'] \n",
      "Space Used:  4.674489899999999 \n",
      "Score:  1 \n",
      "\n",
      "Individual:  16 \n",
      "Spaces:  [0.751, 8.99e-05, 0.4, 0.29, 0.2, 0.0035, 0.496, 0.0424, 0.0319, 0.635, 0.87, 0.498, 0.0544, 0.527, 0.353] \n",
      "Priorities:  [1, 3, 5, 5, 4, 4, 1, 2, 1, 2, 3, 3, 1, 5, 2] \n",
      "Chromosome:  ['0', '0', '1', '1', '1', '0', '0', '0', '0', '1', '1', '1', '1', '0', '1'] \n",
      "Space Used:  3.3004 \n",
      "Score:  1 \n",
      "\n",
      "Individual:  17 \n",
      "Spaces:  [0.751, 8.99e-05, 0.4, 0.29, 0.2, 0.0035, 0.496, 0.0424, 0.0319, 0.635, 0.87, 0.498, 0.0544, 0.527, 0.353] \n",
      "Priorities:  [1, 3, 5, 5, 4, 4, 1, 2, 1, 2, 3, 3, 1, 5, 2] \n",
      "Chromosome:  ['1', '1', '1', '0', '1', '0', '1', '0', '0', '1', '0', '0', '0', '1', '0'] \n",
      "Space Used:  3.0090899 \n",
      "Score:  1 \n",
      "\n",
      "Individual:  18 \n",
      "Spaces:  [0.751, 8.99e-05, 0.4, 0.29, 0.2, 0.0035, 0.496, 0.0424, 0.0319, 0.635, 0.87, 0.498, 0.0544, 0.527, 0.353] \n",
      "Priorities:  [1, 3, 5, 5, 4, 4, 1, 2, 1, 2, 3, 3, 1, 5, 2] \n",
      "Chromosome:  ['1', '0', '1', '0', '0', '1', '1', '1', '1', '1', '1', '1', '1', '1', '1'] \n",
      "Space Used:  4.6621999999999995 \n",
      "Score:  1 \n",
      "\n",
      "Individual:  19 \n",
      "Spaces:  [0.751, 8.99e-05, 0.4, 0.29, 0.2, 0.0035, 0.496, 0.0424, 0.0319, 0.635, 0.87, 0.498, 0.0544, 0.527, 0.353] \n",
      "Priorities:  [1, 3, 5, 5, 4, 4, 1, 2, 1, 2, 3, 3, 1, 5, 2] \n",
      "Chromosome:  ['1', '1', '0', '1', '0', '1', '0', '1', '0', '1', '1', '1', '1', '1', '0'] \n",
      "Space Used:  3.6713899 \n",
      "Score:  1 \n",
      "\n"
     ]
    }
   ],
   "source": [
    "for individual in ga.population:\n",
    "    individual.fitness()\n",
    "ga.order_population()\n",
    "for i in range(ga.population_size):\n",
    "    print('Individual: ', i, '\\nSpaces: ', ga.population[i].spaces, '\\nPriorities: ', ga.population[i].priorities, \n",
    "          '\\nChromosome: ', ga.population[i].chromosome, '\\nSpace Used: ', ga.population[i].used_space,\n",
    "          '\\nScore: ', ga.population[i].score_evaluation,'\\n')"
   ]
  },
  {
   "cell_type": "code",
   "execution_count": 20,
   "metadata": {},
   "outputs": [
    {
     "data": {
      "text/plain": [
       "25"
      ]
     },
     "execution_count": 20,
     "metadata": {},
     "output_type": "execute_result"
    }
   ],
   "source": [
    "ga.best_solution.score_evaluation"
   ]
  },
  {
   "cell_type": "code",
   "execution_count": 21,
   "metadata": {},
   "outputs": [
    {
     "data": {
      "text/plain": [
       "26"
      ]
     },
     "execution_count": 21,
     "metadata": {},
     "output_type": "execute_result"
    }
   ],
   "source": [
    "ga.population[0].score_evaluation"
   ]
  },
  {
   "cell_type": "code",
   "execution_count": 22,
   "metadata": {},
   "outputs": [],
   "source": [
    "ga.best_individual(ga.population[0])"
   ]
  },
  {
   "cell_type": "code",
   "execution_count": 23,
   "metadata": {},
   "outputs": [
    {
     "data": {
      "text/plain": [
       "26"
      ]
     },
     "execution_count": 23,
     "metadata": {},
     "output_type": "execute_result"
    }
   ],
   "source": [
    "ga.best_solution.score_evaluation"
   ]
  },
  {
   "cell_type": "code",
   "execution_count": 24,
   "metadata": {},
   "outputs": [
    {
     "data": {
      "text/plain": [
       "['0', '1', '1', '1', '1', '0', '1', '1', '0', '0', '0', '1', '1', '0', '1']"
      ]
     },
     "execution_count": 24,
     "metadata": {},
     "output_type": "execute_result"
    }
   ],
   "source": [
    "ga.best_solution.chromosome"
   ]
  },
  {
   "cell_type": "code",
   "execution_count": 25,
   "metadata": {},
   "outputs": [
    {
     "name": "stdout",
     "output_type": "stream",
     "text": [
      "Sum of evaluations:  280\n"
     ]
    }
   ],
   "source": [
    "sum = ga.sum_evaluations()\n",
    "print('Sum of evaluations: ', sum)"
   ]
  },
  {
   "cell_type": "code",
   "execution_count": 26,
   "metadata": {},
   "outputs": [
    {
     "data": {
      "text/plain": [
       "4"
      ]
     },
     "execution_count": 26,
     "metadata": {},
     "output_type": "execute_result"
    }
   ],
   "source": [
    "parent1 = ga.select_parent(sum)\n",
    "parent1"
   ]
  },
  {
   "cell_type": "code",
   "execution_count": 27,
   "metadata": {},
   "outputs": [
    {
     "data": {
      "text/plain": [
       "3"
      ]
     },
     "execution_count": 27,
     "metadata": {},
     "output_type": "execute_result"
    }
   ],
   "source": [
    "parent2 = ga.select_parent(sum)\n",
    "parent2"
   ]
  },
  {
   "cell_type": "code",
   "execution_count": 28,
   "metadata": {},
   "outputs": [
    {
     "name": "stdout",
     "output_type": "stream",
     "text": [
      "Selecting parents:  9  -  0\n",
      "Parent 1:  ['1', '1', '0', '1', '0', '1', '1', '0', '0', '1', '0', '1', '0', '0', '0']\n",
      "Parent 2:  ['0', '1', '1', '1', '1', '0', '1', '1', '0', '0', '0', '1', '1', '0', '1']\n",
      "Child 1:  ['0', '1', '1', '1', '0', '1', '1', '0', '0', '1', '0', '1', '0', '0', '0']\n",
      "Child 2:  ['1', '1', '0', '1', '1', '0', '1', '1', '0', '0', '0', '1', '1', '0', '1']\n",
      " \n",
      "Selecting parents:  7  -  5\n",
      "Parent 1:  ['1', '0', '1', '1', '0', '1', '1', '0', '0', '0', '0', '0', '0', '1', '0']\n",
      "Parent 2:  ['0', '0', '0', '1', '0', '1', '1', '1', '1', '0', '0', '1', '0', '1', '1']\n",
      "Child 1:  ['0', '0', '0', '1', '0', '1', '1', '0', '0', '0', '0', '0', '0', '1', '0']\n",
      "Child 2:  ['1', '0', '1', '1', '0', '1', '1', '1', '1', '0', '0', '1', '0', '1', '1']\n",
      " \n",
      "Selecting parents:  6  -  6\n",
      "Parent 1:  ['0', '1', '1', '0', '0', '1', '0', '0', '0', '0', '1', '0', '0', '1', '1']\n",
      "Parent 2:  ['0', '1', '1', '0', '0', '1', '0', '0', '0', '0', '1', '0', '0', '1', '1']\n",
      "Child 1:  ['0', '1', '1', '0', '0', '1', '0', '0', '0', '0', '1', '0', '0', '1', '1']\n",
      "Child 2:  ['0', '1', '1', '0', '0', '1', '0', '0', '0', '0', '1', '0', '0', '1', '1']\n",
      " \n",
      "Selecting parents:  2  -  9\n",
      "Parent 1:  ['1', '1', '1', '1', '1', '1', '1', '1', '0', '0', '0', '0', '0', '0', '0']\n",
      "Parent 2:  ['1', '1', '0', '1', '0', '1', '1', '0', '0', '1', '0', '1', '0', '0', '0']\n",
      "Child 1:  ['1', '1', '0', '1', '1', '1', '1', '1', '0', '0', '0', '0', '0', '0', '0']\n",
      "Child 2:  ['1', '1', '1', '1', '0', '1', '1', '0', '0', '1', '0', '1', '0', '0', '0']\n",
      " \n",
      "Selecting parents:  1  -  9\n",
      "Parent 1:  ['0', '1', '0', '1', '0', '1', '0', '1', '0', '1', '0', '1', '0', '1', '1']\n",
      "Parent 2:  ['1', '1', '0', '1', '0', '1', '1', '0', '0', '1', '0', '1', '0', '0', '0']\n",
      "Child 1:  ['1', '1', '0', '1', '0', '1', '1', '0', '0', '1', '0', '1', '0', '1', '1']\n",
      "Child 2:  ['0', '1', '0', '1', '0', '1', '0', '1', '0', '1', '0', '1', '0', '0', '0']\n",
      " \n",
      "Selecting parents:  3  -  6\n",
      "Parent 1:  ['0', '0', '1', '1', '1', '0', '1', '0', '0', '0', '0', '1', '0', '1', '1']\n",
      "Parent 2:  ['0', '1', '1', '0', '0', '1', '0', '0', '0', '0', '1', '0', '0', '1', '1']\n",
      "Child 1:  ['0', '1', '1', '0', '0', '1', '0', '0', '0', '0', '0', '1', '0', '1', '1']\n",
      "Child 2:  ['0', '0', '1', '1', '1', '0', '1', '0', '0', '0', '1', '0', '0', '1', '1']\n",
      " \n",
      "Selecting parents:  11  -  1\n",
      "Parent 1:  ['0', '0', '0', '0', '1', '1', '1', '1', '0', '0', '0', '1', '0', '0', '0']\n",
      "Parent 2:  ['0', '1', '0', '1', '0', '1', '0', '1', '0', '1', '0', '1', '0', '1', '1']\n",
      "Child 1:  ['0', '1', '0', '1', '0', '1', '0', '1', '0', '0', '0', '1', '0', '0', '0']\n",
      "Child 2:  ['0', '0', '0', '0', '1', '1', '1', '1', '0', '1', '0', '1', '0', '1', '1']\n",
      " \n",
      "Selecting parents:  3  -  12\n",
      "Parent 1:  ['0', '0', '1', '1', '1', '0', '1', '0', '0', '0', '0', '1', '0', '1', '1']\n",
      "Parent 2:  ['1', '0', '1', '0', '0', '1', '0', '0', '0', '0', '0', '1', '0', '0', '0']\n",
      "Child 1:  ['1', '0', '1', '0', '0', '1', '0', '0', '0', '0', '0', '1', '0', '0', '1']\n",
      "Child 2:  ['0', '0', '1', '1', '1', '0', '1', '0', '0', '0', '0', '1', '0', '1', '0']\n",
      " \n",
      "Selecting parents:  4  -  9\n",
      "Parent 1:  ['0', '1', '1', '1', '0', '0', '0', '1', '1', '0', '0', '0', '0', '1', '1']\n",
      "Parent 2:  ['1', '1', '0', '1', '0', '1', '1', '0', '0', '1', '0', '1', '0', '0', '0']\n",
      "Child 1:  ['1', '1', '0', '1', '0', '0', '0', '1', '1', '0', '0', '0', '0', '1', '1']\n",
      "Child 2:  ['0', '1', '1', '1', '0', '1', '1', '0', '0', '1', '0', '1', '0', '0', '0']\n",
      " \n",
      "Selecting parents:  2  -  8\n",
      "Parent 1:  ['1', '1', '1', '1', '1', '1', '1', '1', '0', '0', '0', '0', '0', '0', '0']\n",
      "Parent 2:  ['0', '0', '0', '1', '0', '1', '0', '1', '0', '1', '0', '0', '0', '1', '1']\n",
      "Child 1:  ['0', '0', '0', '1', '0', '1', '0', '1', '0', '1', '0', '0', '0', '0', '0']\n",
      "Child 2:  ['1', '1', '1', '1', '1', '1', '1', '1', '0', '0', '0', '0', '0', '1', '1']\n",
      " \n"
     ]
    }
   ],
   "source": [
    "new_population = []\n",
    "mutation_probability = 0.01\n",
    "for new_individuals in range(0, ga.population_size, 2): # 0, 2, 4,... , 18 \n",
    "    #print(new_individuals)\n",
    "    parent1 = ga.select_parent(sum)\n",
    "    parent2 = ga.select_parent(sum)\n",
    "    print('Selecting parents: ', parent1, ' - ',parent2)\n",
    "    print('Parent 1: ', ga.population[parent1].chromosome)\n",
    "    print('Parent 2: ', ga.population[parent2].chromosome)\n",
    "    \n",
    "    children = ga.population[parent1].crossover(ga.population[parent2])\n",
    "    print('Child 1: ', children[0].chromosome)\n",
    "    print('Child 2: ',children[1].chromosome)\n",
    "    \n",
    "    new_population.append( children[0].mutation(mutation_probability))\n",
    "    new_population.append( children[1].mutation(mutation_probability))\n",
    "    print(' ')"
   ]
  },
  {
   "cell_type": "markdown",
   "metadata": {},
   "source": [
    "# Putting all together"
   ]
  },
  {
   "cell_type": "code",
   "execution_count": 36,
   "metadata": {},
   "outputs": [],
   "source": [
    "products_list = []\n",
    "products_list.append(Product('Item 1', 0.751, 1))\n",
    "products_list.append(Product('Item 2', 0.0000899, 3))\n",
    "products_list.append(Product('Item 3', 0.400, 5))\n",
    "products_list.append(Product('Item 4', 0.290, 5))\n",
    "products_list.append(Product('Item 5', 0.200, 4))\n",
    "products_list.append(Product('Item 6', 0.00350, 4))\n",
    "products_list.append(Product('Item 7', 0.496, 1))\n",
    "products_list.append(Product('Item 8', 0.0424, 2))\n",
    "products_list.append(Product('Item 9', 0.0319, 1))\n",
    "products_list.append(Product('Item 10', 0.635, 2))\n",
    "products_list.append(Product('Item 11', 0.870, 3))\n",
    "products_list.append(Product('Item 12', 0.498, 3))\n",
    "products_list.append(Product('Item 13', 0.0544, 1))\n",
    "products_list.append(Product('Item 14', 0.527, 5))\n",
    "products_list.append(Product('Item 15', 0.353, 2))\n",
    "\n",
    "names = []\n",
    "spaces = []\n",
    "priorities = []\n",
    "for product in products_list:\n",
    "    names.append(product.name)\n",
    "    spaces.append(product.space)\n",
    "    priorities.append(product.priority)\n",
    "    \n",
    "limit = 3\n",
    "population_size = 20\n",
    "mutation_probability = 0.01\n",
    "number_of_generations = 100 "
   ]
  },
  {
   "cell_type": "code",
   "execution_count": 54,
   "metadata": {
    "scrolled": true
   },
   "outputs": [
    {
     "name": "stdout",
     "output_type": "stream",
     "text": [
      "Generation:  0  -  Total priorities:  27  -  Total Space Used:  2.8274  -  Chromosome:  ['0', '0', '1', '1', '1', '0', '0', '1', '0', '0', '1', '1', '0', '1', '0']\n",
      "Generation:  1  -  Total priorities:  14  -  Total Space Used:  1.4264999999999999  -  Chromosome:  ['0', '0', '0', '1', '0', '1', '0', '0', '0', '1', '0', '1', '0', '0', '0']\n",
      "Generation:  2  -  Total priorities:  21  -  Total Space Used:  2.2409  -  Chromosome:  ['0', '0', '1', '1', '0', '1', '0', '1', '0', '1', '1', '0', '0', '0', '0']\n",
      "Generation:  3  -  Total priorities:  21  -  Total Space Used:  2.2409  -  Chromosome:  ['0', '0', '1', '1', '0', '1', '0', '1', '0', '1', '1', '0', '0', '0', '0']\n",
      "Generation:  4  -  Total priorities:  21  -  Total Space Used:  2.5515  -  Chromosome:  ['0', '0', '1', '1', '0', '1', '0', '0', '0', '1', '1', '0', '0', '0', '1']\n",
      "Generation:  5  -  Total priorities:  27  -  Total Space Used:  2.6868  -  Chromosome:  ['0', '0', '1', '1', '1', '1', '1', '1', '1', '0', '1', '0', '0', '0', '1']\n",
      "Generation:  6  -  Total priorities:  25  -  Total Space Used:  2.3338  -  Chromosome:  ['0', '0', '1', '1', '1', '1', '1', '1', '1', '0', '1', '0', '0', '0', '0']\n",
      "Generation:  7  -  Total priorities:  17  -  Total Space Used:  1.5908  -  Chromosome:  ['0', '0', '0', '1', '0', '1', '0', '1', '1', '0', '1', '0', '0', '0', '1']\n",
      "Generation:  8  -  Total priorities:  27  -  Total Space Used:  2.6868  -  Chromosome:  ['0', '0', '1', '1', '1', '1', '1', '1', '1', '0', '1', '0', '0', '0', '1']\n",
      "Generation:  9  -  Total priorities:  25  -  Total Space Used:  2.3338  -  Chromosome:  ['0', '0', '1', '1', '1', '1', '1', '1', '1', '0', '1', '0', '0', '0', '0']\n",
      "Generation:  10  -  Total priorities:  22  -  Total Space Used:  2.2868000000000004  -  Chromosome:  ['0', '0', '0', '1', '1', '1', '1', '1', '1', '0', '1', '0', '0', '0', '1']\n",
      "Generation:  11  -  Total priorities:  23  -  Total Space Used:  2.8899  -  Chromosome:  ['0', '0', '0', '1', '1', '1', '1', '1', '0', '1', '1', '0', '0', '0', '1']\n",
      "Generation:  12  -  Total priorities:  23  -  Total Space Used:  2.3412  -  Chromosome:  ['0', '0', '0', '1', '1', '1', '1', '1', '1', '0', '1', '0', '1', '0', '1']\n",
      "Generation:  13  -  Total priorities:  27  -  Total Space Used:  2.6868  -  Chromosome:  ['0', '0', '1', '1', '1', '1', '1', '1', '1', '0', '1', '0', '0', '0', '1']\n",
      "Generation:  14  -  Total priorities:  27  -  Total Space Used:  2.6868  -  Chromosome:  ['0', '0', '1', '1', '1', '1', '1', '1', '1', '0', '1', '0', '0', '0', '1']\n",
      "Generation:  15  -  Total priorities:  31  -  Total Space Used:  2.7412899  -  Chromosome:  ['0', '1', '1', '1', '1', '1', '1', '1', '1', '0', '1', '0', '1', '0', '1']\n",
      "Generation:  16  -  Total priorities:  23  -  Total Space Used:  2.1165  -  Chromosome:  ['0', '0', '1', '1', '1', '1', '0', '0', '0', '0', '1', '0', '0', '0', '1']\n",
      "Generation:  17  -  Total priorities:  22  -  Total Space Used:  2.2868000000000004  -  Chromosome:  ['0', '0', '0', '1', '1', '1', '1', '1', '1', '0', '1', '0', '0', '0', '1']\n",
      "Generation:  18  -  Total priorities:  26  -  Total Space Used:  2.6987999999999994  -  Chromosome:  ['0', '0', '1', '1', '1', '1', '1', '0', '1', '0', '1', '0', '1', '0', '1']\n",
      "Generation:  19  -  Total priorities:  26  -  Total Space Used:  2.6987999999999994  -  Chromosome:  ['0', '0', '1', '1', '1', '1', '1', '0', '1', '0', '1', '0', '1', '0', '1']\n",
      "Generation:  20  -  Total priorities:  20  -  Total Space Used:  2.1457999999999995  -  Chromosome:  ['0', '0', '1', '1', '0', '1', '1', '0', '1', '0', '1', '0', '1', '0', '0']\n",
      "Generation:  21  -  Total priorities:  28  -  Total Space Used:  2.7412  -  Chromosome:  ['0', '0', '1', '1', '1', '1', '1', '1', '1', '0', '1', '0', '1', '0', '1']\n",
      "Generation:  22  -  Total priorities:  32  -  Total Space Used:  2.8862899  -  Chromosome:  ['0', '1', '1', '1', '1', '1', '1', '1', '1', '0', '1', '1', '1', '0', '0']\n",
      "Generation:  23  -  Total priorities:  28  -  Total Space Used:  2.7412  -  Chromosome:  ['0', '0', '1', '1', '1', '1', '1', '1', '1', '0', '1', '0', '1', '0', '1']\n",
      "Generation:  24  -  Total priorities:  31  -  Total Space Used:  2.7412899  -  Chromosome:  ['0', '1', '1', '1', '1', '1', '1', '1', '1', '0', '1', '0', '1', '0', '1']\n",
      "Generation:  25  -  Total priorities:  31  -  Total Space Used:  2.7412899  -  Chromosome:  ['0', '1', '1', '1', '1', '1', '1', '1', '1', '0', '1', '0', '1', '0', '1']\n",
      "Generation:  26  -  Total priorities:  28  -  Total Space Used:  2.7412  -  Chromosome:  ['0', '0', '1', '1', '1', '1', '1', '1', '1', '0', '1', '0', '1', '0', '1']\n",
      "Generation:  27  -  Total priorities:  27  -  Total Space Used:  2.2451999999999996  -  Chromosome:  ['0', '0', '1', '1', '1', '1', '0', '1', '1', '0', '1', '0', '1', '0', '1']\n",
      "Generation:  28  -  Total priorities:  25  -  Total Space Used:  2.3847899  -  Chromosome:  ['0', '1', '1', '1', '1', '0', '1', '1', '1', '0', '1', '0', '1', '0', '0']\n",
      "Generation:  29  -  Total priorities:  26  -  Total Space Used:  2.3882  -  Chromosome:  ['0', '0', '1', '1', '1', '1', '1', '1', '1', '0', '1', '0', '1', '0', '0']\n",
      "Generation:  30  -  Total priorities:  25  -  Total Space Used:  2.3847899  -  Chromosome:  ['0', '1', '1', '1', '1', '0', '1', '1', '1', '0', '1', '0', '1', '0', '0']\n",
      "Generation:  31  -  Total priorities:  31  -  Total Space Used:  2.7412899  -  Chromosome:  ['0', '1', '1', '1', '1', '1', '1', '1', '1', '0', '1', '0', '1', '0', '1']\n",
      "Generation:  32  -  Total priorities:  28  -  Total Space Used:  2.7412  -  Chromosome:  ['0', '0', '1', '1', '1', '1', '1', '1', '1', '0', '1', '0', '1', '0', '1']\n",
      "Generation:  33  -  Total priorities:  30  -  Total Space Used:  2.6868898999999997  -  Chromosome:  ['0', '1', '1', '1', '1', '1', '1', '1', '1', '0', '1', '0', '0', '0', '1']\n",
      "Generation:  34  -  Total priorities:  31  -  Total Space Used:  2.7412899  -  Chromosome:  ['0', '1', '1', '1', '1', '1', '1', '1', '1', '0', '1', '0', '1', '0', '1']\n",
      "Generation:  35  -  Total priorities:  24  -  Total Space Used:  2.3303899  -  Chromosome:  ['0', '1', '1', '1', '1', '0', '1', '1', '1', '0', '1', '0', '0', '0', '0']\n",
      "Generation:  36  -  Total priorities:  27  -  Total Space Used:  2.7377899  -  Chromosome:  ['0', '1', '1', '1', '1', '0', '1', '1', '1', '0', '1', '0', '1', '0', '1']\n",
      "Generation:  37  -  Total priorities:  30  -  Total Space Used:  2.6868898999999997  -  Chromosome:  ['0', '1', '1', '1', '1', '1', '1', '1', '1', '0', '1', '0', '0', '0', '1']\n",
      "Generation:  38  -  Total priorities:  30  -  Total Space Used:  2.7093898999999997  -  Chromosome:  ['0', '1', '1', '1', '1', '1', '1', '1', '0', '0', '1', '0', '1', '0', '1']\n",
      "Generation:  39  -  Total priorities:  29  -  Total Space Used:  2.8392899  -  Chromosome:  ['0', '1', '0', '1', '1', '1', '1', '1', '1', '0', '1', '1', '1', '0', '1']\n",
      "Generation:  40  -  Total priorities:  26  -  Total Space Used:  2.3412899  -  Chromosome:  ['0', '1', '0', '1', '1', '1', '1', '1', '1', '0', '1', '0', '1', '0', '1']\n",
      "Generation:  41  -  Total priorities:  1  -  Total Space Used:  3.8707899  -  Chromosome:  ['0', '1', '1', '1', '1', '0', '1', '1', '1', '1', '1', '1', '1', '0', '1']\n",
      "Generation:  42  -  Total priorities:  29  -  Total Space Used:  2.3882898999999997  -  Chromosome:  ['0', '1', '1', '1', '1', '1', '1', '1', '1', '0', '1', '0', '1', '0', '0']\n",
      "Generation:  43  -  Total priorities:  27  -  Total Space Used:  2.7377899  -  Chromosome:  ['0', '1', '1', '1', '1', '0', '1', '1', '1', '0', '1', '0', '1', '0', '1']\n",
      "Generation:  44  -  Total priorities:  30  -  Total Space Used:  2.2452899  -  Chromosome:  ['0', '1', '1', '1', '1', '1', '0', '1', '1', '0', '1', '0', '1', '0', '1']\n",
      "Generation:  45  -  Total priorities:  31  -  Total Space Used:  2.7412899  -  Chromosome:  ['0', '1', '1', '1', '1', '1', '1', '1', '1', '0', '1', '0', '1', '0', '1']\n",
      "Generation:  46  -  Total priorities:  34  -  Total Space Used:  2.9152899  -  Chromosome:  ['0', '1', '1', '1', '1', '1', '1', '1', '1', '0', '1', '0', '1', '1', '0']\n",
      "Generation:  47  -  Total priorities:  30  -  Total Space Used:  2.9117899  -  Chromosome:  ['0', '1', '1', '1', '1', '0', '1', '1', '1', '0', '1', '0', '1', '1', '0']\n",
      "Generation:  48  -  Total priorities:  30  -  Total Space Used:  2.9117899  -  Chromosome:  ['0', '1', '1', '1', '1', '0', '1', '1', '1', '0', '1', '0', '1', '1', '0']\n",
      "Generation:  49  -  Total priorities:  25  -  Total Space Used:  2.6217899  -  Chromosome:  ['0', '1', '1', '0', '1', '0', '1', '1', '1', '0', '1', '0', '1', '1', '0']\n",
      "Generation:  50  -  Total priorities:  31  -  Total Space Used:  2.7412899  -  Chromosome:  ['0', '1', '1', '1', '1', '1', '1', '1', '1', '0', '1', '0', '1', '0', '1']\n",
      "Generation:  51  -  Total priorities:  31  -  Total Space Used:  2.7412899  -  Chromosome:  ['0', '1', '1', '1', '1', '1', '1', '1', '1', '0', '1', '0', '1', '0', '1']\n",
      "Generation:  52  -  Total priorities:  31  -  Total Space Used:  2.7412899  -  Chromosome:  ['0', '1', '1', '1', '1', '1', '1', '1', '1', '0', '1', '0', '1', '0', '1']\n",
      "Generation:  53  -  Total priorities:  31  -  Total Space Used:  2.7412899  -  Chromosome:  ['0', '1', '1', '1', '1', '1', '1', '1', '1', '0', '1', '0', '1', '0', '1']\n",
      "Generation:  54  -  Total priorities:  27  -  Total Space Used:  2.7377899  -  Chromosome:  ['0', '1', '1', '1', '1', '0', '1', '1', '1', '0', '1', '0', '1', '0', '1']\n",
      "Generation:  55  -  Total priorities:  31  -  Total Space Used:  2.7412899  -  Chromosome:  ['0', '1', '1', '1', '1', '1', '1', '1', '1', '0', '1', '0', '1', '0', '1']\n",
      "Generation:  56  -  Total priorities:  27  -  Total Space Used:  2.7377899  -  Chromosome:  ['0', '1', '1', '1', '1', '0', '1', '1', '1', '0', '1', '0', '1', '0', '1']\n",
      "Generation:  57  -  Total priorities:  30  -  Total Space Used:  2.7093898999999997  -  Chromosome:  ['0', '1', '1', '1', '1', '1', '1', '1', '0', '0', '1', '0', '1', '0', '1']\n",
      "Generation:  58  -  Total priorities:  28  -  Total Space Used:  2.7412  -  Chromosome:  ['0', '0', '1', '1', '1', '1', '1', '1', '1', '0', '1', '0', '1', '0', '1']\n",
      "Generation:  59  -  Total priorities:  29  -  Total Space Used:  2.6549898999999995  -  Chromosome:  ['0', '1', '1', '1', '1', '1', '1', '1', '0', '0', '1', '0', '0', '0', '1']\n",
      "Generation:  60  -  Total priorities:  27  -  Total Space Used:  2.7377899  -  Chromosome:  ['0', '1', '1', '1', '1', '0', '1', '1', '1', '0', '1', '0', '1', '0', '1']\n",
      "Generation:  61  -  Total priorities:  29  -  Total Space Used:  2.6549898999999995  -  Chromosome:  ['0', '1', '1', '1', '1', '1', '1', '1', '0', '0', '1', '0', '0', '0', '1']\n",
      "Generation:  62  -  Total priorities:  26  -  Total Space Used:  2.3412899  -  Chromosome:  ['0', '1', '0', '1', '1', '1', '1', '1', '1', '0', '1', '0', '1', '0', '1']\n",
      "Generation:  63  -  Total priorities:  26  -  Total Space Used:  2.7058899  -  Chromosome:  ['0', '1', '1', '1', '1', '0', '1', '1', '0', '0', '1', '0', '1', '0', '1']\n",
      "Generation:  64  -  Total priorities:  26  -  Total Space Used:  2.7058899  -  Chromosome:  ['0', '1', '1', '1', '1', '0', '1', '1', '0', '0', '1', '0', '1', '0', '1']\n",
      "Generation:  65  -  Total priorities:  25  -  Total Space Used:  2.9457899000000003  -  Chromosome:  ['0', '1', '1', '0', '1', '0', '1', '1', '1', '0', '1', '1', '1', '0', '1']\n",
      "Generation:  66  -  Total priorities:  23  -  Total Space Used:  1.8358899  -  Chromosome:  ['0', '1', '1', '1', '1', '0', '1', '1', '0', '0', '0', '0', '1', '0', '1']\n",
      "Generation:  67  -  Total priorities:  26  -  Total Space Used:  2.7058899  -  Chromosome:  ['0', '1', '1', '1', '1', '0', '1', '1', '0', '0', '1', '0', '1', '0', '1']\n",
      "Generation:  68  -  Total priorities:  25  -  Total Space Used:  2.4193898999999996  -  Chromosome:  ['0', '1', '1', '0', '1', '1', '1', '1', '0', '0', '1', '0', '1', '0', '1']\n",
      "Generation:  69  -  Total priorities:  26  -  Total Space Used:  2.7058899  -  Chromosome:  ['0', '1', '1', '1', '1', '0', '1', '1', '0', '0', '1', '0', '1', '0', '1']\n",
      "Generation:  70  -  Total priorities:  27  -  Total Space Used:  2.5412898999999998  -  Chromosome:  ['0', '1', '1', '1', '0', '1', '1', '1', '1', '0', '1', '0', '1', '0', '1']\n",
      "Generation:  71  -  Total priorities:  26  -  Total Space Used:  2.7058899  -  Chromosome:  ['0', '1', '1', '1', '1', '0', '1', '1', '0', '0', '1', '0', '1', '0', '1']\n",
      "Generation:  72  -  Total priorities:  26  -  Total Space Used:  2.7058899  -  Chromosome:  ['0', '1', '1', '1', '1', '0', '1', '1', '0', '0', '1', '0', '1', '0', '1']\n",
      "Generation:  73  -  Total priorities:  26  -  Total Space Used:  2.5093898999999995  -  Chromosome:  ['0', '1', '1', '1', '0', '1', '1', '1', '0', '0', '1', '0', '1', '0', '1']\n",
      "Generation:  74  -  Total priorities:  24  -  Total Space Used:  2.1563898999999997  -  Chromosome:  ['0', '1', '1', '1', '0', '1', '1', '1', '0', '0', '1', '0', '1', '0', '0']\n",
      "Generation:  75  -  Total priorities:  24  -  Total Space Used:  2.1563898999999997  -  Chromosome:  ['0', '1', '1', '1', '0', '1', '1', '1', '0', '0', '1', '0', '1', '0', '0']\n",
      "Generation:  76  -  Total priorities:  27  -  Total Space Used:  2.5412898999999998  -  Chromosome:  ['0', '1', '1', '1', '0', '1', '1', '1', '1', '0', '1', '0', '1', '0', '1']\n",
      "Generation:  77  -  Total priorities:  18  -  Total Space Used:  2.1377899  -  Chromosome:  ['0', '1', '0', '1', '0', '0', '1', '1', '1', '0', '1', '0', '1', '0', '1']\n",
      "Generation:  78  -  Total priorities:  28  -  Total Space Used:  2.3563898999999995  -  Chromosome:  ['0', '1', '1', '1', '1', '1', '1', '1', '0', '0', '1', '0', '1', '0', '0']\n",
      "Generation:  79  -  Total priorities:  30  -  Total Space Used:  2.7093898999999997  -  Chromosome:  ['0', '1', '1', '1', '1', '1', '1', '1', '0', '0', '1', '0', '1', '0', '1']\n",
      "Generation:  80  -  Total priorities:  24  -  Total Space Used:  2.5412  -  Chromosome:  ['0', '0', '1', '1', '0', '1', '1', '1', '1', '0', '1', '0', '1', '0', '1']\n",
      "Generation:  81  -  Total priorities:  24  -  Total Space Used:  2.3528898999999996  -  Chromosome:  ['0', '1', '1', '1', '1', '0', '1', '1', '0', '0', '1', '0', '1', '0', '0']\n",
      "Generation:  82  -  Total priorities:  28  -  Total Space Used:  2.3563898999999995  -  Chromosome:  ['0', '1', '1', '1', '1', '1', '1', '1', '0', '0', '1', '0', '1', '0', '0']\n",
      "Generation:  83  -  Total priorities:  1  -  Total Space Used:  3.4603899  -  Chromosome:  ['1', '1', '1', '1', '1', '1', '1', '1', '0', '0', '1', '0', '1', '0', '1']\n",
      "Generation:  84  -  Total priorities:  25  -  Total Space Used:  1.4863898999999998  -  Chromosome:  ['0', '1', '1', '1', '1', '1', '1', '1', '0', '0', '0', '0', '1', '0', '0']\n",
      "Generation:  85  -  Total priorities:  30  -  Total Space Used:  2.7093898999999997  -  Chromosome:  ['0', '1', '1', '1', '1', '1', '1', '1', '0', '0', '1', '0', '1', '0', '1']\n",
      "Generation:  86  -  Total priorities:  30  -  Total Space Used:  2.7093898999999997  -  Chromosome:  ['0', '1', '1', '1', '1', '1', '1', '1', '0', '0', '1', '0', '1', '0', '1']\n",
      "Generation:  87  -  Total priorities:  31  -  Total Space Used:  2.8543898999999997  -  Chromosome:  ['0', '1', '1', '1', '1', '1', '1', '1', '0', '0', '1', '1', '1', '0', '0']\n",
      "Generation:  88  -  Total priorities:  30  -  Total Space Used:  2.7093898999999997  -  Chromosome:  ['0', '1', '1', '1', '1', '1', '1', '1', '0', '0', '1', '0', '1', '0', '1']\n",
      "Generation:  89  -  Total priorities:  29  -  Total Space Used:  2.2133899  -  Chromosome:  ['0', '1', '1', '1', '1', '1', '0', '1', '0', '0', '1', '0', '1', '0', '1']\n",
      "Generation:  90  -  Total priorities:  29  -  Total Space Used:  2.2133899  -  Chromosome:  ['0', '1', '1', '1', '1', '1', '0', '1', '0', '0', '1', '0', '1', '0', '1']\n",
      "Generation:  91  -  Total priorities:  29  -  Total Space Used:  2.2133899  -  Chromosome:  ['0', '1', '1', '1', '1', '1', '0', '1', '0', '0', '1', '0', '1', '0', '1']\n",
      "Generation:  92  -  Total priorities:  30  -  Total Space Used:  2.7093898999999997  -  Chromosome:  ['0', '1', '1', '1', '1', '1', '1', '1', '0', '0', '1', '0', '1', '0', '1']\n",
      "Generation:  93  -  Total priorities:  29  -  Total Space Used:  2.2133899  -  Chromosome:  ['0', '1', '1', '1', '1', '1', '0', '1', '0', '0', '1', '0', '1', '0', '1']\n",
      "Generation:  94  -  Total priorities:  25  -  Total Space Used:  1.4863898999999998  -  Chromosome:  ['0', '1', '1', '1', '1', '1', '1', '1', '0', '0', '0', '0', '1', '0', '0']\n",
      "Generation:  95  -  Total priorities:  19  -  Total Space Used:  1.5703  -  Chromosome:  ['0', '0', '1', '0', '1', '1', '0', '1', '0', '0', '1', '0', '1', '0', '0']\n",
      "Generation:  96  -  Total priorities:  24  -  Total Space Used:  1.9233898999999999  -  Chromosome:  ['0', '1', '1', '0', '1', '1', '0', '1', '0', '0', '1', '0', '1', '0', '1']\n",
      "Generation:  97  -  Total priorities:  24  -  Total Space Used:  2.1563898999999997  -  Chromosome:  ['0', '1', '1', '1', '0', '1', '1', '1', '0', '0', '1', '0', '1', '0', '0']\n",
      "Generation:  98  -  Total priorities:  24  -  Total Space Used:  2.1563898999999997  -  Chromosome:  ['0', '1', '1', '1', '0', '1', '1', '1', '0', '0', '1', '0', '1', '0', '0']\n",
      "Generation:  99  -  Total priorities:  22  -  Total Space Used:  1.8452000000000002  -  Chromosome:  ['0', '0', '0', '1', '1', '1', '0', '1', '1', '0', '1', '0', '1', '0', '1']\n",
      "Generation:  100  -  Total priorities:  20  -  Total Space Used:  1.9563  -  Chromosome:  ['0', '0', '0', '1', '1', '1', '1', '1', '0', '0', '1', '0', '1', '0', '0']\n",
      "\n",
      " *** Best Solution *** \n",
      " Generation:  46 \n",
      " Chromosome:  ['0', '1', '1', '1', '1', '1', '1', '1', '1', '0', '1', '0', '1', '1', '0'] \n",
      " Total priorities:  34 \n",
      " Total Space Used:  2.9152899 \n",
      " Percentage of volume used:  97.2 %\n",
      "['0', '1', '1', '1', '1', '1', '1', '1', '1', '0', '1', '0', '1', '1', '0'] \n",
      "\n",
      "Name:  Item 2  - Priority:  3  - Volume:  8.99e-05\n",
      "Name:  Item 3  - Priority:  5  - Volume:  0.4\n",
      "Name:  Item 4  - Priority:  5  - Volume:  0.29\n",
      "Name:  Item 5  - Priority:  4  - Volume:  0.2\n",
      "Name:  Item 6  - Priority:  4  - Volume:  0.0035\n",
      "Name:  Item 7  - Priority:  1  - Volume:  0.496\n",
      "Name:  Item 8  - Priority:  2  - Volume:  0.0424\n",
      "Name:  Item 9  - Priority:  1  - Volume:  0.0319\n",
      "Name:  Item 11  - Priority:  3  - Volume:  0.87\n",
      "Name:  Item 13  - Priority:  1  - Volume:  0.0544\n",
      "Name:  Item 14  - Priority:  5  - Volume:  0.527\n"
     ]
    }
   ],
   "source": [
    "ga = GeneticAlgorithm(population_size)\n",
    "result = ga.solve(mutation_probability, number_of_generations, spaces, priorities, limit)\n",
    "print(result, '\\n')\n",
    "\n",
    "for i in range(len(products_list)):\n",
    "    if result[i] == '1':\n",
    "        print('Name: ', products_list[i].name,  ' - Priority: ', products_list[i].priority, ' - Volume: ', products_list[i].space,)"
   ]
  },
  {
   "cell_type": "code",
   "execution_count": 77,
   "metadata": {},
   "outputs": [
    {
     "data": {
      "application/vnd.plotly.v1+json": {
       "config": {
        "plotlyServerURL": "https://plot.ly"
       },
       "data": [
        {
         "hovertemplate": "x=%{x}<br>y=%{y}<extra></extra>",
         "legendgroup": "",
         "line": {
          "color": "#636efa",
          "dash": "solid"
         },
         "marker": {
          "symbol": "circle"
         },
         "mode": "lines",
         "name": "",
         "orientation": "v",
         "showlegend": false,
         "type": "scatter",
         "x": [
          0,
          1,
          2,
          3,
          4,
          5,
          6,
          7,
          8,
          9,
          10,
          11,
          12,
          13,
          14,
          15,
          16,
          17,
          18,
          19,
          20,
          21,
          22,
          23,
          24,
          25,
          26,
          27,
          28,
          29,
          30,
          31,
          32,
          33,
          34,
          35,
          36,
          37,
          38,
          39,
          40,
          41,
          42,
          43,
          44,
          45,
          46,
          47,
          48,
          49,
          50,
          51,
          52,
          53,
          54,
          55,
          56,
          57,
          58,
          59,
          60,
          61,
          62,
          63,
          64,
          65,
          66,
          67,
          68,
          69,
          70,
          71,
          72,
          73,
          74,
          75,
          76,
          77,
          78,
          79,
          80,
          81,
          82,
          83,
          84,
          85,
          86,
          87,
          88,
          89,
          90,
          91,
          92,
          93,
          94,
          95,
          96,
          97,
          98,
          99,
          100
         ],
         "xaxis": "x",
         "y": [
          27,
          14,
          21,
          21,
          21,
          27,
          25,
          17,
          27,
          25,
          22,
          23,
          23,
          27,
          27,
          31,
          23,
          22,
          26,
          26,
          20,
          28,
          32,
          28,
          31,
          31,
          28,
          27,
          25,
          26,
          25,
          31,
          28,
          30,
          31,
          24,
          27,
          30,
          30,
          29,
          26,
          1,
          29,
          27,
          30,
          31,
          34,
          30,
          30,
          25,
          31,
          31,
          31,
          31,
          27,
          31,
          27,
          30,
          28,
          29,
          27,
          29,
          26,
          26,
          26,
          25,
          23,
          26,
          25,
          26,
          27,
          26,
          26,
          26,
          24,
          24,
          27,
          18,
          28,
          30,
          24,
          24,
          28,
          1,
          25,
          30,
          30,
          31,
          30,
          29,
          29,
          29,
          30,
          29,
          25,
          19,
          24,
          24,
          24,
          22,
          20
         ],
         "yaxis": "y"
        }
       ],
       "layout": {
        "annotations": [
         {
          "arrowhead": 2,
          "showarrow": true,
          "text": "Maximum score",
          "x": 46,
          "y": 34
         }
        ],
        "height": 500,
        "legend": {
         "tracegroupgap": 0
        },
        "margin": {
         "t": 60
        },
        "template": {
         "data": {
          "bar": [
           {
            "error_x": {
             "color": "#2a3f5f"
            },
            "error_y": {
             "color": "#2a3f5f"
            },
            "marker": {
             "line": {
              "color": "#E5ECF6",
              "width": 0.5
             },
             "pattern": {
              "fillmode": "overlay",
              "size": 10,
              "solidity": 0.2
             }
            },
            "type": "bar"
           }
          ],
          "barpolar": [
           {
            "marker": {
             "line": {
              "color": "#E5ECF6",
              "width": 0.5
             },
             "pattern": {
              "fillmode": "overlay",
              "size": 10,
              "solidity": 0.2
             }
            },
            "type": "barpolar"
           }
          ],
          "carpet": [
           {
            "aaxis": {
             "endlinecolor": "#2a3f5f",
             "gridcolor": "white",
             "linecolor": "white",
             "minorgridcolor": "white",
             "startlinecolor": "#2a3f5f"
            },
            "baxis": {
             "endlinecolor": "#2a3f5f",
             "gridcolor": "white",
             "linecolor": "white",
             "minorgridcolor": "white",
             "startlinecolor": "#2a3f5f"
            },
            "type": "carpet"
           }
          ],
          "choropleth": [
           {
            "colorbar": {
             "outlinewidth": 0,
             "ticks": ""
            },
            "type": "choropleth"
           }
          ],
          "contour": [
           {
            "colorbar": {
             "outlinewidth": 0,
             "ticks": ""
            },
            "colorscale": [
             [
              0,
              "#0d0887"
             ],
             [
              0.1111111111111111,
              "#46039f"
             ],
             [
              0.2222222222222222,
              "#7201a8"
             ],
             [
              0.3333333333333333,
              "#9c179e"
             ],
             [
              0.4444444444444444,
              "#bd3786"
             ],
             [
              0.5555555555555556,
              "#d8576b"
             ],
             [
              0.6666666666666666,
              "#ed7953"
             ],
             [
              0.7777777777777778,
              "#fb9f3a"
             ],
             [
              0.8888888888888888,
              "#fdca26"
             ],
             [
              1,
              "#f0f921"
             ]
            ],
            "type": "contour"
           }
          ],
          "contourcarpet": [
           {
            "colorbar": {
             "outlinewidth": 0,
             "ticks": ""
            },
            "type": "contourcarpet"
           }
          ],
          "heatmap": [
           {
            "colorbar": {
             "outlinewidth": 0,
             "ticks": ""
            },
            "colorscale": [
             [
              0,
              "#0d0887"
             ],
             [
              0.1111111111111111,
              "#46039f"
             ],
             [
              0.2222222222222222,
              "#7201a8"
             ],
             [
              0.3333333333333333,
              "#9c179e"
             ],
             [
              0.4444444444444444,
              "#bd3786"
             ],
             [
              0.5555555555555556,
              "#d8576b"
             ],
             [
              0.6666666666666666,
              "#ed7953"
             ],
             [
              0.7777777777777778,
              "#fb9f3a"
             ],
             [
              0.8888888888888888,
              "#fdca26"
             ],
             [
              1,
              "#f0f921"
             ]
            ],
            "type": "heatmap"
           }
          ],
          "heatmapgl": [
           {
            "colorbar": {
             "outlinewidth": 0,
             "ticks": ""
            },
            "colorscale": [
             [
              0,
              "#0d0887"
             ],
             [
              0.1111111111111111,
              "#46039f"
             ],
             [
              0.2222222222222222,
              "#7201a8"
             ],
             [
              0.3333333333333333,
              "#9c179e"
             ],
             [
              0.4444444444444444,
              "#bd3786"
             ],
             [
              0.5555555555555556,
              "#d8576b"
             ],
             [
              0.6666666666666666,
              "#ed7953"
             ],
             [
              0.7777777777777778,
              "#fb9f3a"
             ],
             [
              0.8888888888888888,
              "#fdca26"
             ],
             [
              1,
              "#f0f921"
             ]
            ],
            "type": "heatmapgl"
           }
          ],
          "histogram": [
           {
            "marker": {
             "pattern": {
              "fillmode": "overlay",
              "size": 10,
              "solidity": 0.2
             }
            },
            "type": "histogram"
           }
          ],
          "histogram2d": [
           {
            "colorbar": {
             "outlinewidth": 0,
             "ticks": ""
            },
            "colorscale": [
             [
              0,
              "#0d0887"
             ],
             [
              0.1111111111111111,
              "#46039f"
             ],
             [
              0.2222222222222222,
              "#7201a8"
             ],
             [
              0.3333333333333333,
              "#9c179e"
             ],
             [
              0.4444444444444444,
              "#bd3786"
             ],
             [
              0.5555555555555556,
              "#d8576b"
             ],
             [
              0.6666666666666666,
              "#ed7953"
             ],
             [
              0.7777777777777778,
              "#fb9f3a"
             ],
             [
              0.8888888888888888,
              "#fdca26"
             ],
             [
              1,
              "#f0f921"
             ]
            ],
            "type": "histogram2d"
           }
          ],
          "histogram2dcontour": [
           {
            "colorbar": {
             "outlinewidth": 0,
             "ticks": ""
            },
            "colorscale": [
             [
              0,
              "#0d0887"
             ],
             [
              0.1111111111111111,
              "#46039f"
             ],
             [
              0.2222222222222222,
              "#7201a8"
             ],
             [
              0.3333333333333333,
              "#9c179e"
             ],
             [
              0.4444444444444444,
              "#bd3786"
             ],
             [
              0.5555555555555556,
              "#d8576b"
             ],
             [
              0.6666666666666666,
              "#ed7953"
             ],
             [
              0.7777777777777778,
              "#fb9f3a"
             ],
             [
              0.8888888888888888,
              "#fdca26"
             ],
             [
              1,
              "#f0f921"
             ]
            ],
            "type": "histogram2dcontour"
           }
          ],
          "mesh3d": [
           {
            "colorbar": {
             "outlinewidth": 0,
             "ticks": ""
            },
            "type": "mesh3d"
           }
          ],
          "parcoords": [
           {
            "line": {
             "colorbar": {
              "outlinewidth": 0,
              "ticks": ""
             }
            },
            "type": "parcoords"
           }
          ],
          "pie": [
           {
            "automargin": true,
            "type": "pie"
           }
          ],
          "scatter": [
           {
            "marker": {
             "colorbar": {
              "outlinewidth": 0,
              "ticks": ""
             }
            },
            "type": "scatter"
           }
          ],
          "scatter3d": [
           {
            "line": {
             "colorbar": {
              "outlinewidth": 0,
              "ticks": ""
             }
            },
            "marker": {
             "colorbar": {
              "outlinewidth": 0,
              "ticks": ""
             }
            },
            "type": "scatter3d"
           }
          ],
          "scattercarpet": [
           {
            "marker": {
             "colorbar": {
              "outlinewidth": 0,
              "ticks": ""
             }
            },
            "type": "scattercarpet"
           }
          ],
          "scattergeo": [
           {
            "marker": {
             "colorbar": {
              "outlinewidth": 0,
              "ticks": ""
             }
            },
            "type": "scattergeo"
           }
          ],
          "scattergl": [
           {
            "marker": {
             "colorbar": {
              "outlinewidth": 0,
              "ticks": ""
             }
            },
            "type": "scattergl"
           }
          ],
          "scattermapbox": [
           {
            "marker": {
             "colorbar": {
              "outlinewidth": 0,
              "ticks": ""
             }
            },
            "type": "scattermapbox"
           }
          ],
          "scatterpolar": [
           {
            "marker": {
             "colorbar": {
              "outlinewidth": 0,
              "ticks": ""
             }
            },
            "type": "scatterpolar"
           }
          ],
          "scatterpolargl": [
           {
            "marker": {
             "colorbar": {
              "outlinewidth": 0,
              "ticks": ""
             }
            },
            "type": "scatterpolargl"
           }
          ],
          "scatterternary": [
           {
            "marker": {
             "colorbar": {
              "outlinewidth": 0,
              "ticks": ""
             }
            },
            "type": "scatterternary"
           }
          ],
          "surface": [
           {
            "colorbar": {
             "outlinewidth": 0,
             "ticks": ""
            },
            "colorscale": [
             [
              0,
              "#0d0887"
             ],
             [
              0.1111111111111111,
              "#46039f"
             ],
             [
              0.2222222222222222,
              "#7201a8"
             ],
             [
              0.3333333333333333,
              "#9c179e"
             ],
             [
              0.4444444444444444,
              "#bd3786"
             ],
             [
              0.5555555555555556,
              "#d8576b"
             ],
             [
              0.6666666666666666,
              "#ed7953"
             ],
             [
              0.7777777777777778,
              "#fb9f3a"
             ],
             [
              0.8888888888888888,
              "#fdca26"
             ],
             [
              1,
              "#f0f921"
             ]
            ],
            "type": "surface"
           }
          ],
          "table": [
           {
            "cells": {
             "fill": {
              "color": "#EBF0F8"
             },
             "line": {
              "color": "white"
             }
            },
            "header": {
             "fill": {
              "color": "#C8D4E3"
             },
             "line": {
              "color": "white"
             }
            },
            "type": "table"
           }
          ]
         },
         "layout": {
          "annotationdefaults": {
           "arrowcolor": "#2a3f5f",
           "arrowhead": 0,
           "arrowwidth": 1
          },
          "autotypenumbers": "strict",
          "coloraxis": {
           "colorbar": {
            "outlinewidth": 0,
            "ticks": ""
           }
          },
          "colorscale": {
           "diverging": [
            [
             0,
             "#8e0152"
            ],
            [
             0.1,
             "#c51b7d"
            ],
            [
             0.2,
             "#de77ae"
            ],
            [
             0.3,
             "#f1b6da"
            ],
            [
             0.4,
             "#fde0ef"
            ],
            [
             0.5,
             "#f7f7f7"
            ],
            [
             0.6,
             "#e6f5d0"
            ],
            [
             0.7,
             "#b8e186"
            ],
            [
             0.8,
             "#7fbc41"
            ],
            [
             0.9,
             "#4d9221"
            ],
            [
             1,
             "#276419"
            ]
           ],
           "sequential": [
            [
             0,
             "#0d0887"
            ],
            [
             0.1111111111111111,
             "#46039f"
            ],
            [
             0.2222222222222222,
             "#7201a8"
            ],
            [
             0.3333333333333333,
             "#9c179e"
            ],
            [
             0.4444444444444444,
             "#bd3786"
            ],
            [
             0.5555555555555556,
             "#d8576b"
            ],
            [
             0.6666666666666666,
             "#ed7953"
            ],
            [
             0.7777777777777778,
             "#fb9f3a"
            ],
            [
             0.8888888888888888,
             "#fdca26"
            ],
            [
             1,
             "#f0f921"
            ]
           ],
           "sequentialminus": [
            [
             0,
             "#0d0887"
            ],
            [
             0.1111111111111111,
             "#46039f"
            ],
            [
             0.2222222222222222,
             "#7201a8"
            ],
            [
             0.3333333333333333,
             "#9c179e"
            ],
            [
             0.4444444444444444,
             "#bd3786"
            ],
            [
             0.5555555555555556,
             "#d8576b"
            ],
            [
             0.6666666666666666,
             "#ed7953"
            ],
            [
             0.7777777777777778,
             "#fb9f3a"
            ],
            [
             0.8888888888888888,
             "#fdca26"
            ],
            [
             1,
             "#f0f921"
            ]
           ]
          },
          "colorway": [
           "#636efa",
           "#EF553B",
           "#00cc96",
           "#ab63fa",
           "#FFA15A",
           "#19d3f3",
           "#FF6692",
           "#B6E880",
           "#FF97FF",
           "#FECB52"
          ],
          "font": {
           "color": "#2a3f5f"
          },
          "geo": {
           "bgcolor": "white",
           "lakecolor": "white",
           "landcolor": "#E5ECF6",
           "showlakes": true,
           "showland": true,
           "subunitcolor": "white"
          },
          "hoverlabel": {
           "align": "left"
          },
          "hovermode": "closest",
          "mapbox": {
           "style": "light"
          },
          "paper_bgcolor": "white",
          "plot_bgcolor": "#E5ECF6",
          "polar": {
           "angularaxis": {
            "gridcolor": "white",
            "linecolor": "white",
            "ticks": ""
           },
           "bgcolor": "#E5ECF6",
           "radialaxis": {
            "gridcolor": "white",
            "linecolor": "white",
            "ticks": ""
           }
          },
          "scene": {
           "xaxis": {
            "backgroundcolor": "#E5ECF6",
            "gridcolor": "white",
            "gridwidth": 2,
            "linecolor": "white",
            "showbackground": true,
            "ticks": "",
            "zerolinecolor": "white"
           },
           "yaxis": {
            "backgroundcolor": "#E5ECF6",
            "gridcolor": "white",
            "gridwidth": 2,
            "linecolor": "white",
            "showbackground": true,
            "ticks": "",
            "zerolinecolor": "white"
           },
           "zaxis": {
            "backgroundcolor": "#E5ECF6",
            "gridcolor": "white",
            "gridwidth": 2,
            "linecolor": "white",
            "showbackground": true,
            "ticks": "",
            "zerolinecolor": "white"
           }
          },
          "shapedefaults": {
           "line": {
            "color": "#2a3f5f"
           }
          },
          "ternary": {
           "aaxis": {
            "gridcolor": "white",
            "linecolor": "white",
            "ticks": ""
           },
           "baxis": {
            "gridcolor": "white",
            "linecolor": "white",
            "ticks": ""
           },
           "bgcolor": "#E5ECF6",
           "caxis": {
            "gridcolor": "white",
            "linecolor": "white",
            "ticks": ""
           }
          },
          "title": {
           "x": 0.05
          },
          "xaxis": {
           "automargin": true,
           "gridcolor": "white",
           "linecolor": "white",
           "ticks": "",
           "title": {
            "standoff": 15
           },
           "zerolinecolor": "white",
           "zerolinewidth": 2
          },
          "yaxis": {
           "automargin": true,
           "gridcolor": "white",
           "linecolor": "white",
           "ticks": "",
           "title": {
            "standoff": 15
           },
           "zerolinecolor": "white",
           "zerolinewidth": 2
          }
         }
        },
        "title": {
         "text": "Genetic Algorithm Results for Total Score",
         "x": 0.5
        },
        "width": 1000,
        "xaxis": {
         "anchor": "y",
         "autorange": true,
         "domain": [
          0,
          1
         ],
         "range": [
          0,
          100
         ],
         "title": {
          "text": "Generation No."
         },
         "type": "linear"
        },
        "yaxis": {
         "anchor": "x",
         "autorange": true,
         "domain": [
          0,
          1
         ],
         "range": [
          -0.9603960396039604,
          38.24752475247525
         ],
         "title": {
          "text": "Total Priority Value"
         },
         "type": "linear"
        }
       }
      },
      "image/png": "[encoded data removed]",
      "text/html": [
       "<div>                            <div id=\"a7bcedd4-34d5-47aa-a0a3-1eaba266c200\" class=\"plotly-graph-div\" style=\"height:500px; width:1000px;\"></div>            <script type=\"text/javascript\">                require([\"plotly\"], function(Plotly) {                    window.PLOTLYENV=window.PLOTLYENV || {};                                    if (document.getElementById(\"a7bcedd4-34d5-47aa-a0a3-1eaba266c200\")) {                    Plotly.newPlot(                        \"a7bcedd4-34d5-47aa-a0a3-1eaba266c200\",                        [{\"hovertemplate\":\"x=%{x}<br>y=%{y}<extra></extra>\",\"legendgroup\":\"\",\"line\":{\"color\":\"#636efa\",\"dash\":\"solid\"},\"marker\":{\"symbol\":\"circle\"},\"mode\":\"lines\",\"name\":\"\",\"orientation\":\"v\",\"showlegend\":false,\"type\":\"scatter\",\"x\":[0,1,2,3,4,5,6,7,8,9,10,11,12,13,14,15,16,17,18,19,20,21,22,23,24,25,26,27,28,29,30,31,32,33,34,35,36,37,38,39,40,41,42,43,44,45,46,47,48,49,50,51,52,53,54,55,56,57,58,59,60,61,62,63,64,65,66,67,68,69,70,71,72,73,74,75,76,77,78,79,80,81,82,83,84,85,86,87,88,89,90,91,92,93,94,95,96,97,98,99,100],\"xaxis\":\"x\",\"y\":[27,14,21,21,21,27,25,17,27,25,22,23,23,27,27,31,23,22,26,26,20,28,32,28,31,31,28,27,25,26,25,31,28,30,31,24,27,30,30,29,26,1,29,27,30,31,34,30,30,25,31,31,31,31,27,31,27,30,28,29,27,29,26,26,26,25,23,26,25,26,27,26,26,26,24,24,27,18,28,30,24,24,28,1,25,30,30,31,30,29,29,29,30,29,25,19,24,24,24,22,20],\"yaxis\":\"y\"}],                        {\"annotations\":[{\"arrowhead\":2,\"showarrow\":true,\"text\":\"Maximum score\",\"x\":46,\"y\":34}],\"height\":500,\"legend\":{\"tracegroupgap\":0},\"margin\":{\"t\":60},\"template\":{\"data\":{\"bar\":[{\"error_x\":{\"color\":\"#2a3f5f\"},\"error_y\":{\"color\":\"#2a3f5f\"},\"marker\":{\"line\":{\"color\":\"#E5ECF6\",\"width\":0.5},\"pattern\":{\"fillmode\":\"overlay\",\"size\":10,\"solidity\":0.2}},\"type\":\"bar\"}],\"barpolar\":[{\"marker\":{\"line\":{\"color\":\"#E5ECF6\",\"width\":0.5},\"pattern\":{\"fillmode\":\"overlay\",\"size\":10,\"solidity\":0.2}},\"type\":\"barpolar\"}],\"carpet\":[{\"aaxis\":{\"endlinecolor\":\"#2a3f5f\",\"gridcolor\":\"white\",\"linecolor\":\"white\",\"minorgridcolor\":\"white\",\"startlinecolor\":\"#2a3f5f\"},\"baxis\":{\"endlinecolor\":\"#2a3f5f\",\"gridcolor\":\"white\",\"linecolor\":\"white\",\"minorgridcolor\":\"white\",\"startlinecolor\":\"#2a3f5f\"},\"type\":\"carpet\"}],\"choropleth\":[{\"colorbar\":{\"outlinewidth\":0,\"ticks\":\"\"},\"type\":\"choropleth\"}],\"contour\":[{\"colorbar\":{\"outlinewidth\":0,\"ticks\":\"\"},\"colorscale\":[[0.0,\"#0d0887\"],[0.1111111111111111,\"#46039f\"],[0.2222222222222222,\"#7201a8\"],[0.3333333333333333,\"#9c179e\"],[0.4444444444444444,\"#bd3786\"],[0.5555555555555556,\"#d8576b\"],[0.6666666666666666,\"#ed7953\"],[0.7777777777777778,\"#fb9f3a\"],[0.8888888888888888,\"#fdca26\"],[1.0,\"#f0f921\"]],\"type\":\"contour\"}],\"contourcarpet\":[{\"colorbar\":{\"outlinewidth\":0,\"ticks\":\"\"},\"type\":\"contourcarpet\"}],\"heatmap\":[{\"colorbar\":{\"outlinewidth\":0,\"ticks\":\"\"},\"colorscale\":[[0.0,\"#0d0887\"],[0.1111111111111111,\"#46039f\"],[0.2222222222222222,\"#7201a8\"],[0.3333333333333333,\"#9c179e\"],[0.4444444444444444,\"#bd3786\"],[0.5555555555555556,\"#d8576b\"],[0.6666666666666666,\"#ed7953\"],[0.7777777777777778,\"#fb9f3a\"],[0.8888888888888888,\"#fdca26\"],[1.0,\"#f0f921\"]],\"type\":\"heatmap\"}],\"heatmapgl\":[{\"colorbar\":{\"outlinewidth\":0,\"ticks\":\"\"},\"colorscale\":[[0.0,\"#0d0887\"],[0.1111111111111111,\"#46039f\"],[0.2222222222222222,\"#7201a8\"],[0.3333333333333333,\"#9c179e\"],[0.4444444444444444,\"#bd3786\"],[0.5555555555555556,\"#d8576b\"],[0.6666666666666666,\"#ed7953\"],[0.7777777777777778,\"#fb9f3a\"],[0.8888888888888888,\"#fdca26\"],[1.0,\"#f0f921\"]],\"type\":\"heatmapgl\"}],\"histogram\":[{\"marker\":{\"pattern\":{\"fillmode\":\"overlay\",\"size\":10,\"solidity\":0.2}},\"type\":\"histogram\"}],\"histogram2d\":[{\"colorbar\":{\"outlinewidth\":0,\"ticks\":\"\"},\"colorscale\":[[0.0,\"#0d0887\"],[0.1111111111111111,\"#46039f\"],[0.2222222222222222,\"#7201a8\"],[0.3333333333333333,\"#9c179e\"],[0.4444444444444444,\"#bd3786\"],[0.5555555555555556,\"#d8576b\"],[0.6666666666666666,\"#ed7953\"],[0.7777777777777778,\"#fb9f3a\"],[0.8888888888888888,\"#fdca26\"],[1.0,\"#f0f921\"]],\"type\":\"histogram2d\"}],\"histogram2dcontour\":[{\"colorbar\":{\"outlinewidth\":0,\"ticks\":\"\"},\"colorscale\":[[0.0,\"#0d0887\"],[0.1111111111111111,\"#46039f\"],[0.2222222222222222,\"#7201a8\"],[0.3333333333333333,\"#9c179e\"],[0.4444444444444444,\"#bd3786\"],[0.5555555555555556,\"#d8576b\"],[0.6666666666666666,\"#ed7953\"],[0.7777777777777778,\"#fb9f3a\"],[0.8888888888888888,\"#fdca26\"],[1.0,\"#f0f921\"]],\"type\":\"histogram2dcontour\"}],\"mesh3d\":[{\"colorbar\":{\"outlinewidth\":0,\"ticks\":\"\"},\"type\":\"mesh3d\"}],\"parcoords\":[{\"line\":{\"colorbar\":{\"outlinewidth\":0,\"ticks\":\"\"}},\"type\":\"parcoords\"}],\"pie\":[{\"automargin\":true,\"type\":\"pie\"}],\"scatter\":[{\"marker\":{\"colorbar\":{\"outlinewidth\":0,\"ticks\":\"\"}},\"type\":\"scatter\"}],\"scatter3d\":[{\"line\":{\"colorbar\":{\"outlinewidth\":0,\"ticks\":\"\"}},\"marker\":{\"colorbar\":{\"outlinewidth\":0,\"ticks\":\"\"}},\"type\":\"scatter3d\"}],\"scattercarpet\":[{\"marker\":{\"colorbar\":{\"outlinewidth\":0,\"ticks\":\"\"}},\"type\":\"scattercarpet\"}],\"scattergeo\":[{\"marker\":{\"colorbar\":{\"outlinewidth\":0,\"ticks\":\"\"}},\"type\":\"scattergeo\"}],\"scattergl\":[{\"marker\":{\"colorbar\":{\"outlinewidth\":0,\"ticks\":\"\"}},\"type\":\"scattergl\"}],\"scattermapbox\":[{\"marker\":{\"colorbar\":{\"outlinewidth\":0,\"ticks\":\"\"}},\"type\":\"scattermapbox\"}],\"scatterpolar\":[{\"marker\":{\"colorbar\":{\"outlinewidth\":0,\"ticks\":\"\"}},\"type\":\"scatterpolar\"}],\"scatterpolargl\":[{\"marker\":{\"colorbar\":{\"outlinewidth\":0,\"ticks\":\"\"}},\"type\":\"scatterpolargl\"}],\"scatterternary\":[{\"marker\":{\"colorbar\":{\"outlinewidth\":0,\"ticks\":\"\"}},\"type\":\"scatterternary\"}],\"surface\":[{\"colorbar\":{\"outlinewidth\":0,\"ticks\":\"\"},\"colorscale\":[[0.0,\"#0d0887\"],[0.1111111111111111,\"#46039f\"],[0.2222222222222222,\"#7201a8\"],[0.3333333333333333,\"#9c179e\"],[0.4444444444444444,\"#bd3786\"],[0.5555555555555556,\"#d8576b\"],[0.6666666666666666,\"#ed7953\"],[0.7777777777777778,\"#fb9f3a\"],[0.8888888888888888,\"#fdca26\"],[1.0,\"#f0f921\"]],\"type\":\"surface\"}],\"table\":[{\"cells\":{\"fill\":{\"color\":\"#EBF0F8\"},\"line\":{\"color\":\"white\"}},\"header\":{\"fill\":{\"color\":\"#C8D4E3\"},\"line\":{\"color\":\"white\"}},\"type\":\"table\"}]},\"layout\":{\"annotationdefaults\":{\"arrowcolor\":\"#2a3f5f\",\"arrowhead\":0,\"arrowwidth\":1},\"autotypenumbers\":\"strict\",\"coloraxis\":{\"colorbar\":{\"outlinewidth\":0,\"ticks\":\"\"}},\"colorscale\":{\"diverging\":[[0,\"#8e0152\"],[0.1,\"#c51b7d\"],[0.2,\"#de77ae\"],[0.3,\"#f1b6da\"],[0.4,\"#fde0ef\"],[0.5,\"#f7f7f7\"],[0.6,\"#e6f5d0\"],[0.7,\"#b8e186\"],[0.8,\"#7fbc41\"],[0.9,\"#4d9221\"],[1,\"#276419\"]],\"sequential\":[[0.0,\"#0d0887\"],[0.1111111111111111,\"#46039f\"],[0.2222222222222222,\"#7201a8\"],[0.3333333333333333,\"#9c179e\"],[0.4444444444444444,\"#bd3786\"],[0.5555555555555556,\"#d8576b\"],[0.6666666666666666,\"#ed7953\"],[0.7777777777777778,\"#fb9f3a\"],[0.8888888888888888,\"#fdca26\"],[1.0,\"#f0f921\"]],\"sequentialminus\":[[0.0,\"#0d0887\"],[0.1111111111111111,\"#46039f\"],[0.2222222222222222,\"#7201a8\"],[0.3333333333333333,\"#9c179e\"],[0.4444444444444444,\"#bd3786\"],[0.5555555555555556,\"#d8576b\"],[0.6666666666666666,\"#ed7953\"],[0.7777777777777778,\"#fb9f3a\"],[0.8888888888888888,\"#fdca26\"],[1.0,\"#f0f921\"]]},\"colorway\":[\"#636efa\",\"#EF553B\",\"#00cc96\",\"#ab63fa\",\"#FFA15A\",\"#19d3f3\",\"#FF6692\",\"#B6E880\",\"#FF97FF\",\"#FECB52\"],\"font\":{\"color\":\"#2a3f5f\"},\"geo\":{\"bgcolor\":\"white\",\"lakecolor\":\"white\",\"landcolor\":\"#E5ECF6\",\"showlakes\":true,\"showland\":true,\"subunitcolor\":\"white\"},\"hoverlabel\":{\"align\":\"left\"},\"hovermode\":\"closest\",\"mapbox\":{\"style\":\"light\"},\"paper_bgcolor\":\"white\",\"plot_bgcolor\":\"#E5ECF6\",\"polar\":{\"angularaxis\":{\"gridcolor\":\"white\",\"linecolor\":\"white\",\"ticks\":\"\"},\"bgcolor\":\"#E5ECF6\",\"radialaxis\":{\"gridcolor\":\"white\",\"linecolor\":\"white\",\"ticks\":\"\"}},\"scene\":{\"xaxis\":{\"backgroundcolor\":\"#E5ECF6\",\"gridcolor\":\"white\",\"gridwidth\":2,\"linecolor\":\"white\",\"showbackground\":true,\"ticks\":\"\",\"zerolinecolor\":\"white\"},\"yaxis\":{\"backgroundcolor\":\"#E5ECF6\",\"gridcolor\":\"white\",\"gridwidth\":2,\"linecolor\":\"white\",\"showbackground\":true,\"ticks\":\"\",\"zerolinecolor\":\"white\"},\"zaxis\":{\"backgroundcolor\":\"#E5ECF6\",\"gridcolor\":\"white\",\"gridwidth\":2,\"linecolor\":\"white\",\"showbackground\":true,\"ticks\":\"\",\"zerolinecolor\":\"white\"}},\"shapedefaults\":{\"line\":{\"color\":\"#2a3f5f\"}},\"ternary\":{\"aaxis\":{\"gridcolor\":\"white\",\"linecolor\":\"white\",\"ticks\":\"\"},\"baxis\":{\"gridcolor\":\"white\",\"linecolor\":\"white\",\"ticks\":\"\"},\"bgcolor\":\"#E5ECF6\",\"caxis\":{\"gridcolor\":\"white\",\"linecolor\":\"white\",\"ticks\":\"\"}},\"title\":{\"x\":0.05},\"xaxis\":{\"automargin\":true,\"gridcolor\":\"white\",\"linecolor\":\"white\",\"ticks\":\"\",\"title\":{\"standoff\":15},\"zerolinecolor\":\"white\",\"zerolinewidth\":2},\"yaxis\":{\"automargin\":true,\"gridcolor\":\"white\",\"linecolor\":\"white\",\"ticks\":\"\",\"title\":{\"standoff\":15},\"zerolinecolor\":\"white\",\"zerolinewidth\":2}}},\"title\":{\"text\":\"Genetic Algorithm Results for Total Score\",\"x\":0.5},\"width\":1000,\"xaxis\":{\"anchor\":\"y\",\"domain\":[0.0,1.0],\"title\":{\"text\":\"Generation No.\"}},\"yaxis\":{\"anchor\":\"x\",\"domain\":[0.0,1.0],\"title\":{\"text\":\"Total Priority Value\"}}},                        {\"responsive\": true}                    ).then(function(){\n",
       "                            \n",
       "var gd = document.getElementById('a7bcedd4-34d5-47aa-a0a3-1eaba266c200');\n",
       "var x = new MutationObserver(function (mutations, observer) {{\n",
       "        var display = window.getComputedStyle(gd).display;\n",
       "        if (!display || display === 'none') {{\n",
       "            console.log([gd, 'removed!']);\n",
       "            Plotly.purge(gd);\n",
       "            observer.disconnect();\n",
       "        }}\n",
       "}});\n",
       "\n",
       "// Listen for the removal of the full notebook cells\n",
       "var notebookContainer = gd.closest('#notebook-container');\n",
       "if (notebookContainer) {{\n",
       "    x.observe(notebookContainer, {childList: true});\n",
       "}}\n",
       "\n",
       "// Listen for the clearing of the current output cell\n",
       "var outputEl = gd.closest('.output');\n",
       "if (outputEl) {{\n",
       "    x.observe(outputEl, {childList: true});\n",
       "}}\n",
       "\n",
       "                        })                };                });            </script>        </div>"
      ]
     },
     "metadata": {},
     "output_type": "display_data"
    }
   ],
   "source": [
    "import plotly.express as px\n",
    "figure = px.line(x = range(0,101), y = ga.list_of_solutions_score, width=1000, height=500)\n",
    "figure.update_layout(title_text='Genetic Algorithm Results for Total Score', title_x=0.5)\n",
    "figure.update_yaxes(title_text='Total Priority Value')\n",
    "figure.update_xaxes(title_text='Generation No.')\n",
    "\n",
    "figure.add_annotation(x=ga.best_solution.generation, y=ga.best_solution.score_evaluation,\n",
    "            text=\"Maximum score\",\n",
    "            showarrow=True,\n",
    "            arrowhead=2)\n",
    "figure.show()"
   ]
  },
  {
   "cell_type": "code",
   "execution_count": 80,
   "metadata": {},
   "outputs": [
    {
     "data": {
      "application/vnd.plotly.v1+json": {
       "config": {
        "plotlyServerURL": "https://plot.ly"
       },
       "data": [
        {
         "hovertemplate": "x=%{x}<br>y=%{y}<extra></extra>",
         "legendgroup": "",
         "line": {
          "color": "green",
          "dash": "solid"
         },
         "marker": {
          "symbol": "circle"
         },
         "mode": "lines",
         "name": "",
         "orientation": "v",
         "showlegend": false,
         "type": "scatter",
         "x": [
          0,
          1,
          2,
          3,
          4,
          5,
          6,
          7,
          8,
          9,
          10,
          11,
          12,
          13,
          14,
          15,
          16,
          17,
          18,
          19,
          20,
          21,
          22,
          23,
          24,
          25,
          26,
          27,
          28,
          29,
          30,
          31,
          32,
          33,
          34,
          35,
          36,
          37,
          38,
          39,
          40,
          41,
          42,
          43,
          44,
          45,
          46,
          47,
          48,
          49,
          50,
          51,
          52,
          53,
          54,
          55,
          56,
          57,
          58,
          59,
          60,
          61,
          62,
          63,
          64,
          65,
          66,
          67,
          68,
          69,
          70,
          71,
          72,
          73,
          74,
          75,
          76,
          77,
          78,
          79,
          80,
          81,
          82,
          83,
          84,
          85,
          86,
          87,
          88,
          89,
          90,
          91,
          92,
          93,
          94,
          95,
          96,
          97,
          98,
          99,
          100
         ],
         "xaxis": "x",
         "y": [
          2.8274,
          1.4264999999999999,
          2.2409,
          2.2409,
          2.5515,
          2.6868,
          2.3338,
          1.5908,
          2.6868,
          2.3338,
          2.2868000000000004,
          2.8899,
          2.3412,
          2.6868,
          2.6868,
          2.7412899,
          2.1165,
          2.2868000000000004,
          2.6987999999999994,
          2.6987999999999994,
          2.1457999999999995,
          2.7412,
          2.8862899,
          2.7412,
          2.7412899,
          2.7412899,
          2.7412,
          2.2451999999999996,
          2.3847899,
          2.3882,
          2.3847899,
          2.7412899,
          2.7412,
          2.6868898999999997,
          2.7412899,
          2.3303899,
          2.7377899,
          2.6868898999999997,
          2.7093898999999997,
          2.8392899,
          2.3412899,
          3.8707899,
          2.3882898999999997,
          2.7377899,
          2.2452899,
          2.7412899,
          2.9152899,
          2.9117899,
          2.9117899,
          2.6217899,
          2.7412899,
          2.7412899,
          2.7412899,
          2.7412899,
          2.7377899,
          2.7412899,
          2.7377899,
          2.7093898999999997,
          2.7412,
          2.6549898999999995,
          2.7377899,
          2.6549898999999995,
          2.3412899,
          2.7058899,
          2.7058899,
          2.9457899000000003,
          1.8358899,
          2.7058899,
          2.4193898999999996,
          2.7058899,
          2.5412898999999998,
          2.7058899,
          2.7058899,
          2.5093898999999995,
          2.1563898999999997,
          2.1563898999999997,
          2.5412898999999998,
          2.1377899,
          2.3563898999999995,
          2.7093898999999997,
          2.5412,
          2.3528898999999996,
          2.3563898999999995,
          3.4603899,
          1.4863898999999998,
          2.7093898999999997,
          2.7093898999999997,
          2.8543898999999997,
          2.7093898999999997,
          2.2133899,
          2.2133899,
          2.2133899,
          2.7093898999999997,
          2.2133899,
          1.4863898999999998,
          1.5703,
          1.9233898999999999,
          2.1563898999999997,
          2.1563898999999997,
          1.8452000000000002,
          1.9563
         ],
         "yaxis": "y"
        }
       ],
       "layout": {
        "annotations": [
         {
          "showarrow": false,
          "text": "Maximum Capacity",
          "x": 1,
          "xanchor": "right",
          "xref": "x domain",
          "y": 3,
          "yanchor": "bottom",
          "yref": "y"
         },
         {
          "arrowhead": 2,
          "showarrow": true,
          "text": "Maximum space used",
          "x": 46,
          "y": 2.9152899
         }
        ],
        "height": 500,
        "legend": {
         "tracegroupgap": 0
        },
        "margin": {
         "t": 60
        },
        "shapes": [
         {
          "line": {
           "color": "red",
           "dash": "dash"
          },
          "type": "line",
          "x0": 0,
          "x1": 1,
          "xref": "x domain",
          "y0": 3,
          "y1": 3,
          "yref": "y"
         }
        ],
        "template": {
         "data": {
          "bar": [
           {
            "error_x": {
             "color": "#2a3f5f"
            },
            "error_y": {
             "color": "#2a3f5f"
            },
            "marker": {
             "line": {
              "color": "#E5ECF6",
              "width": 0.5
             },
             "pattern": {
              "fillmode": "overlay",
              "size": 10,
              "solidity": 0.2
             }
            },
            "type": "bar"
           }
          ],
          "barpolar": [
           {
            "marker": {
             "line": {
              "color": "#E5ECF6",
              "width": 0.5
             },
             "pattern": {
              "fillmode": "overlay",
              "size": 10,
              "solidity": 0.2
             }
            },
            "type": "barpolar"
           }
          ],
          "carpet": [
           {
            "aaxis": {
             "endlinecolor": "#2a3f5f",
             "gridcolor": "white",
             "linecolor": "white",
             "minorgridcolor": "white",
             "startlinecolor": "#2a3f5f"
            },
            "baxis": {
             "endlinecolor": "#2a3f5f",
             "gridcolor": "white",
             "linecolor": "white",
             "minorgridcolor": "white",
             "startlinecolor": "#2a3f5f"
            },
            "type": "carpet"
           }
          ],
          "choropleth": [
           {
            "colorbar": {
             "outlinewidth": 0,
             "ticks": ""
            },
            "type": "choropleth"
           }
          ],
          "contour": [
           {
            "colorbar": {
             "outlinewidth": 0,
             "ticks": ""
            },
            "colorscale": [
             [
              0,
              "#0d0887"
             ],
             [
              0.1111111111111111,
              "#46039f"
             ],
             [
              0.2222222222222222,
              "#7201a8"
             ],
             [
              0.3333333333333333,
              "#9c179e"
             ],
             [
              0.4444444444444444,
              "#bd3786"
             ],
             [
              0.5555555555555556,
              "#d8576b"
             ],
             [
              0.6666666666666666,
              "#ed7953"
             ],
             [
              0.7777777777777778,
              "#fb9f3a"
             ],
             [
              0.8888888888888888,
              "#fdca26"
             ],
             [
              1,
              "#f0f921"
             ]
            ],
            "type": "contour"
           }
          ],
          "contourcarpet": [
           {
            "colorbar": {
             "outlinewidth": 0,
             "ticks": ""
            },
            "type": "contourcarpet"
           }
          ],
          "heatmap": [
           {
            "colorbar": {
             "outlinewidth": 0,
             "ticks": ""
            },
            "colorscale": [
             [
              0,
              "#0d0887"
             ],
             [
              0.1111111111111111,
              "#46039f"
             ],
             [
              0.2222222222222222,
              "#7201a8"
             ],
             [
              0.3333333333333333,
              "#9c179e"
             ],
             [
              0.4444444444444444,
              "#bd3786"
             ],
             [
              0.5555555555555556,
              "#d8576b"
             ],
             [
              0.6666666666666666,
              "#ed7953"
             ],
             [
              0.7777777777777778,
              "#fb9f3a"
             ],
             [
              0.8888888888888888,
              "#fdca26"
             ],
             [
              1,
              "#f0f921"
             ]
            ],
            "type": "heatmap"
           }
          ],
          "heatmapgl": [
           {
            "colorbar": {
             "outlinewidth": 0,
             "ticks": ""
            },
            "colorscale": [
             [
              0,
              "#0d0887"
             ],
             [
              0.1111111111111111,
              "#46039f"
             ],
             [
              0.2222222222222222,
              "#7201a8"
             ],
             [
              0.3333333333333333,
              "#9c179e"
             ],
             [
              0.4444444444444444,
              "#bd3786"
             ],
             [
              0.5555555555555556,
              "#d8576b"
             ],
             [
              0.6666666666666666,
              "#ed7953"
             ],
             [
              0.7777777777777778,
              "#fb9f3a"
             ],
             [
              0.8888888888888888,
              "#fdca26"
             ],
             [
              1,
              "#f0f921"
             ]
            ],
            "type": "heatmapgl"
           }
          ],
          "histogram": [
           {
            "marker": {
             "pattern": {
              "fillmode": "overlay",
              "size": 10,
              "solidity": 0.2
             }
            },
            "type": "histogram"
           }
          ],
          "histogram2d": [
           {
            "colorbar": {
             "outlinewidth": 0,
             "ticks": ""
            },
            "colorscale": [
             [
              0,
              "#0d0887"
             ],
             [
              0.1111111111111111,
              "#46039f"
             ],
             [
              0.2222222222222222,
              "#7201a8"
             ],
             [
              0.3333333333333333,
              "#9c179e"
             ],
             [
              0.4444444444444444,
              "#bd3786"
             ],
             [
              0.5555555555555556,
              "#d8576b"
             ],
             [
              0.6666666666666666,
              "#ed7953"
             ],
             [
              0.7777777777777778,
              "#fb9f3a"
             ],
             [
              0.8888888888888888,
              "#fdca26"
             ],
             [
              1,
              "#f0f921"
             ]
            ],
            "type": "histogram2d"
           }
          ],
          "histogram2dcontour": [
           {
            "colorbar": {
             "outlinewidth": 0,
             "ticks": ""
            },
            "colorscale": [
             [
              0,
              "#0d0887"
             ],
             [
              0.1111111111111111,
              "#46039f"
             ],
             [
              0.2222222222222222,
              "#7201a8"
             ],
             [
              0.3333333333333333,
              "#9c179e"
             ],
             [
              0.4444444444444444,
              "#bd3786"
             ],
             [
              0.5555555555555556,
              "#d8576b"
             ],
             [
              0.6666666666666666,
              "#ed7953"
             ],
             [
              0.7777777777777778,
              "#fb9f3a"
             ],
             [
              0.8888888888888888,
              "#fdca26"
             ],
             [
              1,
              "#f0f921"
             ]
            ],
            "type": "histogram2dcontour"
           }
          ],
          "mesh3d": [
           {
            "colorbar": {
             "outlinewidth": 0,
             "ticks": ""
            },
            "type": "mesh3d"
           }
          ],
          "parcoords": [
           {
            "line": {
             "colorbar": {
              "outlinewidth": 0,
              "ticks": ""
             }
            },
            "type": "parcoords"
           }
          ],
          "pie": [
           {
            "automargin": true,
            "type": "pie"
           }
          ],
          "scatter": [
           {
            "marker": {
             "colorbar": {
              "outlinewidth": 0,
              "ticks": ""
             }
            },
            "type": "scatter"
           }
          ],
          "scatter3d": [
           {
            "line": {
             "colorbar": {
              "outlinewidth": 0,
              "ticks": ""
             }
            },
            "marker": {
             "colorbar": {
              "outlinewidth": 0,
              "ticks": ""
             }
            },
            "type": "scatter3d"
           }
          ],
          "scattercarpet": [
           {
            "marker": {
             "colorbar": {
              "outlinewidth": 0,
              "ticks": ""
             }
            },
            "type": "scattercarpet"
           }
          ],
          "scattergeo": [
           {
            "marker": {
             "colorbar": {
              "outlinewidth": 0,
              "ticks": ""
             }
            },
            "type": "scattergeo"
           }
          ],
          "scattergl": [
           {
            "marker": {
             "colorbar": {
              "outlinewidth": 0,
              "ticks": ""
             }
            },
            "type": "scattergl"
           }
          ],
          "scattermapbox": [
           {
            "marker": {
             "colorbar": {
              "outlinewidth": 0,
              "ticks": ""
             }
            },
            "type": "scattermapbox"
           }
          ],
          "scatterpolar": [
           {
            "marker": {
             "colorbar": {
              "outlinewidth": 0,
              "ticks": ""
             }
            },
            "type": "scatterpolar"
           }
          ],
          "scatterpolargl": [
           {
            "marker": {
             "colorbar": {
              "outlinewidth": 0,
              "ticks": ""
             }
            },
            "type": "scatterpolargl"
           }
          ],
          "scatterternary": [
           {
            "marker": {
             "colorbar": {
              "outlinewidth": 0,
              "ticks": ""
             }
            },
            "type": "scatterternary"
           }
          ],
          "surface": [
           {
            "colorbar": {
             "outlinewidth": 0,
             "ticks": ""
            },
            "colorscale": [
             [
              0,
              "#0d0887"
             ],
             [
              0.1111111111111111,
              "#46039f"
             ],
             [
              0.2222222222222222,
              "#7201a8"
             ],
             [
              0.3333333333333333,
              "#9c179e"
             ],
             [
              0.4444444444444444,
              "#bd3786"
             ],
             [
              0.5555555555555556,
              "#d8576b"
             ],
             [
              0.6666666666666666,
              "#ed7953"
             ],
             [
              0.7777777777777778,
              "#fb9f3a"
             ],
             [
              0.8888888888888888,
              "#fdca26"
             ],
             [
              1,
              "#f0f921"
             ]
            ],
            "type": "surface"
           }
          ],
          "table": [
           {
            "cells": {
             "fill": {
              "color": "#EBF0F8"
             },
             "line": {
              "color": "white"
             }
            },
            "header": {
             "fill": {
              "color": "#C8D4E3"
             },
             "line": {
              "color": "white"
             }
            },
            "type": "table"
           }
          ]
         },
         "layout": {
          "annotationdefaults": {
           "arrowcolor": "#2a3f5f",
           "arrowhead": 0,
           "arrowwidth": 1
          },
          "autotypenumbers": "strict",
          "coloraxis": {
           "colorbar": {
            "outlinewidth": 0,
            "ticks": ""
           }
          },
          "colorscale": {
           "diverging": [
            [
             0,
             "#8e0152"
            ],
            [
             0.1,
             "#c51b7d"
            ],
            [
             0.2,
             "#de77ae"
            ],
            [
             0.3,
             "#f1b6da"
            ],
            [
             0.4,
             "#fde0ef"
            ],
            [
             0.5,
             "#f7f7f7"
            ],
            [
             0.6,
             "#e6f5d0"
            ],
            [
             0.7,
             "#b8e186"
            ],
            [
             0.8,
             "#7fbc41"
            ],
            [
             0.9,
             "#4d9221"
            ],
            [
             1,
             "#276419"
            ]
           ],
           "sequential": [
            [
             0,
             "#0d0887"
            ],
            [
             0.1111111111111111,
             "#46039f"
            ],
            [
             0.2222222222222222,
             "#7201a8"
            ],
            [
             0.3333333333333333,
             "#9c179e"
            ],
            [
             0.4444444444444444,
             "#bd3786"
            ],
            [
             0.5555555555555556,
             "#d8576b"
            ],
            [
             0.6666666666666666,
             "#ed7953"
            ],
            [
             0.7777777777777778,
             "#fb9f3a"
            ],
            [
             0.8888888888888888,
             "#fdca26"
            ],
            [
             1,
             "#f0f921"
            ]
           ],
           "sequentialminus": [
            [
             0,
             "#0d0887"
            ],
            [
             0.1111111111111111,
             "#46039f"
            ],
            [
             0.2222222222222222,
             "#7201a8"
            ],
            [
             0.3333333333333333,
             "#9c179e"
            ],
            [
             0.4444444444444444,
             "#bd3786"
            ],
            [
             0.5555555555555556,
             "#d8576b"
            ],
            [
             0.6666666666666666,
             "#ed7953"
            ],
            [
             0.7777777777777778,
             "#fb9f3a"
            ],
            [
             0.8888888888888888,
             "#fdca26"
            ],
            [
             1,
             "#f0f921"
            ]
           ]
          },
          "colorway": [
           "#636efa",
           "#EF553B",
           "#00cc96",
           "#ab63fa",
           "#FFA15A",
           "#19d3f3",
           "#FF6692",
           "#B6E880",
           "#FF97FF",
           "#FECB52"
          ],
          "font": {
           "color": "#2a3f5f"
          },
          "geo": {
           "bgcolor": "white",
           "lakecolor": "white",
           "landcolor": "#E5ECF6",
           "showlakes": true,
           "showland": true,
           "subunitcolor": "white"
          },
          "hoverlabel": {
           "align": "left"
          },
          "hovermode": "closest",
          "mapbox": {
           "style": "light"
          },
          "paper_bgcolor": "white",
          "plot_bgcolor": "#E5ECF6",
          "polar": {
           "angularaxis": {
            "gridcolor": "white",
            "linecolor": "white",
            "ticks": ""
           },
           "bgcolor": "#E5ECF6",
           "radialaxis": {
            "gridcolor": "white",
            "linecolor": "white",
            "ticks": ""
           }
          },
          "scene": {
           "xaxis": {
            "backgroundcolor": "#E5ECF6",
            "gridcolor": "white",
            "gridwidth": 2,
            "linecolor": "white",
            "showbackground": true,
            "ticks": "",
            "zerolinecolor": "white"
           },
           "yaxis": {
            "backgroundcolor": "#E5ECF6",
            "gridcolor": "white",
            "gridwidth": 2,
            "linecolor": "white",
            "showbackground": true,
            "ticks": "",
            "zerolinecolor": "white"
           },
           "zaxis": {
            "backgroundcolor": "#E5ECF6",
            "gridcolor": "white",
            "gridwidth": 2,
            "linecolor": "white",
            "showbackground": true,
            "ticks": "",
            "zerolinecolor": "white"
           }
          },
          "shapedefaults": {
           "line": {
            "color": "#2a3f5f"
           }
          },
          "ternary": {
           "aaxis": {
            "gridcolor": "white",
            "linecolor": "white",
            "ticks": ""
           },
           "baxis": {
            "gridcolor": "white",
            "linecolor": "white",
            "ticks": ""
           },
           "bgcolor": "#E5ECF6",
           "caxis": {
            "gridcolor": "white",
            "linecolor": "white",
            "ticks": ""
           }
          },
          "title": {
           "x": 0.05
          },
          "xaxis": {
           "automargin": true,
           "gridcolor": "white",
           "linecolor": "white",
           "ticks": "",
           "title": {
            "standoff": 15
           },
           "zerolinecolor": "white",
           "zerolinewidth": 2
          },
          "yaxis": {
           "automargin": true,
           "gridcolor": "white",
           "linecolor": "white",
           "ticks": "",
           "title": {
            "standoff": 15
           },
           "zerolinecolor": "white",
           "zerolinewidth": 2
          }
         }
        },
        "title": {
         "text": "Genetic Algorithm Results for Total Volume Occupied",
         "x": 0.5
        },
        "width": 1000,
        "xaxis": {
         "anchor": "y",
         "autorange": true,
         "domain": [
          0,
          1
         ],
         "range": [
          0,
          100
         ],
         "title": {
          "text": "Generation No."
         },
         "type": "linear"
        },
        "yaxis": {
         "anchor": "x",
         "autorange": true,
         "domain": [
          0,
          1
         ],
         "range": [
          1.2907061166666665,
          4.006583783333333
         ],
         "title": {
          "text": "Total Space Used/m^3"
         },
         "type": "linear"
        }
       }
      },
      "image/png": "[encoded data removed]",
      "text/html": [
       "<div>                            <div id=\"126ddbd7-4c6f-4acb-8d9a-1fb685766634\" class=\"plotly-graph-div\" style=\"height:500px; width:1000px;\"></div>            <script type=\"text/javascript\">                require([\"plotly\"], function(Plotly) {                    window.PLOTLYENV=window.PLOTLYENV || {};                                    if (document.getElementById(\"126ddbd7-4c6f-4acb-8d9a-1fb685766634\")) {                    Plotly.newPlot(                        \"126ddbd7-4c6f-4acb-8d9a-1fb685766634\",                        [{\"hovertemplate\":\"x=%{x}<br>y=%{y}<extra></extra>\",\"legendgroup\":\"\",\"line\":{\"color\":\"green\",\"dash\":\"solid\"},\"marker\":{\"symbol\":\"circle\"},\"mode\":\"lines\",\"name\":\"\",\"orientation\":\"v\",\"showlegend\":false,\"type\":\"scatter\",\"x\":[0,1,2,3,4,5,6,7,8,9,10,11,12,13,14,15,16,17,18,19,20,21,22,23,24,25,26,27,28,29,30,31,32,33,34,35,36,37,38,39,40,41,42,43,44,45,46,47,48,49,50,51,52,53,54,55,56,57,58,59,60,61,62,63,64,65,66,67,68,69,70,71,72,73,74,75,76,77,78,79,80,81,82,83,84,85,86,87,88,89,90,91,92,93,94,95,96,97,98,99,100],\"xaxis\":\"x\",\"y\":[2.8274,1.4264999999999999,2.2409,2.2409,2.5515,2.6868,2.3338,1.5908,2.6868,2.3338,2.2868000000000004,2.8899,2.3412,2.6868,2.6868,2.7412899,2.1165,2.2868000000000004,2.6987999999999994,2.6987999999999994,2.1457999999999995,2.7412,2.8862899,2.7412,2.7412899,2.7412899,2.7412,2.2451999999999996,2.3847899,2.3882,2.3847899,2.7412899,2.7412,2.6868898999999997,2.7412899,2.3303899,2.7377899,2.6868898999999997,2.7093898999999997,2.8392899,2.3412899,3.8707899,2.3882898999999997,2.7377899,2.2452899,2.7412899,2.9152899,2.9117899,2.9117899,2.6217899,2.7412899,2.7412899,2.7412899,2.7412899,2.7377899,2.7412899,2.7377899,2.7093898999999997,2.7412,2.6549898999999995,2.7377899,2.6549898999999995,2.3412899,2.7058899,2.7058899,2.9457899000000003,1.8358899,2.7058899,2.4193898999999996,2.7058899,2.5412898999999998,2.7058899,2.7058899,2.5093898999999995,2.1563898999999997,2.1563898999999997,2.5412898999999998,2.1377899,2.3563898999999995,2.7093898999999997,2.5412,2.3528898999999996,2.3563898999999995,3.4603899,1.4863898999999998,2.7093898999999997,2.7093898999999997,2.8543898999999997,2.7093898999999997,2.2133899,2.2133899,2.2133899,2.7093898999999997,2.2133899,1.4863898999999998,1.5703,1.9233898999999999,2.1563898999999997,2.1563898999999997,1.8452000000000002,1.9563],\"yaxis\":\"y\"}],                        {\"annotations\":[{\"showarrow\":false,\"text\":\"Maximum Capacity\",\"x\":1,\"xanchor\":\"right\",\"xref\":\"x domain\",\"y\":3,\"yanchor\":\"bottom\",\"yref\":\"y\"},{\"arrowhead\":2,\"showarrow\":true,\"text\":\"Maximum space used\",\"x\":46,\"y\":2.9152899}],\"height\":500,\"legend\":{\"tracegroupgap\":0},\"margin\":{\"t\":60},\"shapes\":[{\"line\":{\"color\":\"red\",\"dash\":\"dash\"},\"type\":\"line\",\"x0\":0,\"x1\":1,\"xref\":\"x domain\",\"y0\":3,\"y1\":3,\"yref\":\"y\"}],\"template\":{\"data\":{\"bar\":[{\"error_x\":{\"color\":\"#2a3f5f\"},\"error_y\":{\"color\":\"#2a3f5f\"},\"marker\":{\"line\":{\"color\":\"#E5ECF6\",\"width\":0.5},\"pattern\":{\"fillmode\":\"overlay\",\"size\":10,\"solidity\":0.2}},\"type\":\"bar\"}],\"barpolar\":[{\"marker\":{\"line\":{\"color\":\"#E5ECF6\",\"width\":0.5},\"pattern\":{\"fillmode\":\"overlay\",\"size\":10,\"solidity\":0.2}},\"type\":\"barpolar\"}],\"carpet\":[{\"aaxis\":{\"endlinecolor\":\"#2a3f5f\",\"gridcolor\":\"white\",\"linecolor\":\"white\",\"minorgridcolor\":\"white\",\"startlinecolor\":\"#2a3f5f\"},\"baxis\":{\"endlinecolor\":\"#2a3f5f\",\"gridcolor\":\"white\",\"linecolor\":\"white\",\"minorgridcolor\":\"white\",\"startlinecolor\":\"#2a3f5f\"},\"type\":\"carpet\"}],\"choropleth\":[{\"colorbar\":{\"outlinewidth\":0,\"ticks\":\"\"},\"type\":\"choropleth\"}],\"contour\":[{\"colorbar\":{\"outlinewidth\":0,\"ticks\":\"\"},\"colorscale\":[[0.0,\"#0d0887\"],[0.1111111111111111,\"#46039f\"],[0.2222222222222222,\"#7201a8\"],[0.3333333333333333,\"#9c179e\"],[0.4444444444444444,\"#bd3786\"],[0.5555555555555556,\"#d8576b\"],[0.6666666666666666,\"#ed7953\"],[0.7777777777777778,\"#fb9f3a\"],[0.8888888888888888,\"#fdca26\"],[1.0,\"#f0f921\"]],\"type\":\"contour\"}],\"contourcarpet\":[{\"colorbar\":{\"outlinewidth\":0,\"ticks\":\"\"},\"type\":\"contourcarpet\"}],\"heatmap\":[{\"colorbar\":{\"outlinewidth\":0,\"ticks\":\"\"},\"colorscale\":[[0.0,\"#0d0887\"],[0.1111111111111111,\"#46039f\"],[0.2222222222222222,\"#7201a8\"],[0.3333333333333333,\"#9c179e\"],[0.4444444444444444,\"#bd3786\"],[0.5555555555555556,\"#d8576b\"],[0.6666666666666666,\"#ed7953\"],[0.7777777777777778,\"#fb9f3a\"],[0.8888888888888888,\"#fdca26\"],[1.0,\"#f0f921\"]],\"type\":\"heatmap\"}],\"heatmapgl\":[{\"colorbar\":{\"outlinewidth\":0,\"ticks\":\"\"},\"colorscale\":[[0.0,\"#0d0887\"],[0.1111111111111111,\"#46039f\"],[0.2222222222222222,\"#7201a8\"],[0.3333333333333333,\"#9c179e\"],[0.4444444444444444,\"#bd3786\"],[0.5555555555555556,\"#d8576b\"],[0.6666666666666666,\"#ed7953\"],[0.7777777777777778,\"#fb9f3a\"],[0.8888888888888888,\"#fdca26\"],[1.0,\"#f0f921\"]],\"type\":\"heatmapgl\"}],\"histogram\":[{\"marker\":{\"pattern\":{\"fillmode\":\"overlay\",\"size\":10,\"solidity\":0.2}},\"type\":\"histogram\"}],\"histogram2d\":[{\"colorbar\":{\"outlinewidth\":0,\"ticks\":\"\"},\"colorscale\":[[0.0,\"#0d0887\"],[0.1111111111111111,\"#46039f\"],[0.2222222222222222,\"#7201a8\"],[0.3333333333333333,\"#9c179e\"],[0.4444444444444444,\"#bd3786\"],[0.5555555555555556,\"#d8576b\"],[0.6666666666666666,\"#ed7953\"],[0.7777777777777778,\"#fb9f3a\"],[0.8888888888888888,\"#fdca26\"],[1.0,\"#f0f921\"]],\"type\":\"histogram2d\"}],\"histogram2dcontour\":[{\"colorbar\":{\"outlinewidth\":0,\"ticks\":\"\"},\"colorscale\":[[0.0,\"#0d0887\"],[0.1111111111111111,\"#46039f\"],[0.2222222222222222,\"#7201a8\"],[0.3333333333333333,\"#9c179e\"],[0.4444444444444444,\"#bd3786\"],[0.5555555555555556,\"#d8576b\"],[0.6666666666666666,\"#ed7953\"],[0.7777777777777778,\"#fb9f3a\"],[0.8888888888888888,\"#fdca26\"],[1.0,\"#f0f921\"]],\"type\":\"histogram2dcontour\"}],\"mesh3d\":[{\"colorbar\":{\"outlinewidth\":0,\"ticks\":\"\"},\"type\":\"mesh3d\"}],\"parcoords\":[{\"line\":{\"colorbar\":{\"outlinewidth\":0,\"ticks\":\"\"}},\"type\":\"parcoords\"}],\"pie\":[{\"automargin\":true,\"type\":\"pie\"}],\"scatter\":[{\"marker\":{\"colorbar\":{\"outlinewidth\":0,\"ticks\":\"\"}},\"type\":\"scatter\"}],\"scatter3d\":[{\"line\":{\"colorbar\":{\"outlinewidth\":0,\"ticks\":\"\"}},\"marker\":{\"colorbar\":{\"outlinewidth\":0,\"ticks\":\"\"}},\"type\":\"scatter3d\"}],\"scattercarpet\":[{\"marker\":{\"colorbar\":{\"outlinewidth\":0,\"ticks\":\"\"}},\"type\":\"scattercarpet\"}],\"scattergeo\":[{\"marker\":{\"colorbar\":{\"outlinewidth\":0,\"ticks\":\"\"}},\"type\":\"scattergeo\"}],\"scattergl\":[{\"marker\":{\"colorbar\":{\"outlinewidth\":0,\"ticks\":\"\"}},\"type\":\"scattergl\"}],\"scattermapbox\":[{\"marker\":{\"colorbar\":{\"outlinewidth\":0,\"ticks\":\"\"}},\"type\":\"scattermapbox\"}],\"scatterpolar\":[{\"marker\":{\"colorbar\":{\"outlinewidth\":0,\"ticks\":\"\"}},\"type\":\"scatterpolar\"}],\"scatterpolargl\":[{\"marker\":{\"colorbar\":{\"outlinewidth\":0,\"ticks\":\"\"}},\"type\":\"scatterpolargl\"}],\"scatterternary\":[{\"marker\":{\"colorbar\":{\"outlinewidth\":0,\"ticks\":\"\"}},\"type\":\"scatterternary\"}],\"surface\":[{\"colorbar\":{\"outlinewidth\":0,\"ticks\":\"\"},\"colorscale\":[[0.0,\"#0d0887\"],[0.1111111111111111,\"#46039f\"],[0.2222222222222222,\"#7201a8\"],[0.3333333333333333,\"#9c179e\"],[0.4444444444444444,\"#bd3786\"],[0.5555555555555556,\"#d8576b\"],[0.6666666666666666,\"#ed7953\"],[0.7777777777777778,\"#fb9f3a\"],[0.8888888888888888,\"#fdca26\"],[1.0,\"#f0f921\"]],\"type\":\"surface\"}],\"table\":[{\"cells\":{\"fill\":{\"color\":\"#EBF0F8\"},\"line\":{\"color\":\"white\"}},\"header\":{\"fill\":{\"color\":\"#C8D4E3\"},\"line\":{\"color\":\"white\"}},\"type\":\"table\"}]},\"layout\":{\"annotationdefaults\":{\"arrowcolor\":\"#2a3f5f\",\"arrowhead\":0,\"arrowwidth\":1},\"autotypenumbers\":\"strict\",\"coloraxis\":{\"colorbar\":{\"outlinewidth\":0,\"ticks\":\"\"}},\"colorscale\":{\"diverging\":[[0,\"#8e0152\"],[0.1,\"#c51b7d\"],[0.2,\"#de77ae\"],[0.3,\"#f1b6da\"],[0.4,\"#fde0ef\"],[0.5,\"#f7f7f7\"],[0.6,\"#e6f5d0\"],[0.7,\"#b8e186\"],[0.8,\"#7fbc41\"],[0.9,\"#4d9221\"],[1,\"#276419\"]],\"sequential\":[[0.0,\"#0d0887\"],[0.1111111111111111,\"#46039f\"],[0.2222222222222222,\"#7201a8\"],[0.3333333333333333,\"#9c179e\"],[0.4444444444444444,\"#bd3786\"],[0.5555555555555556,\"#d8576b\"],[0.6666666666666666,\"#ed7953\"],[0.7777777777777778,\"#fb9f3a\"],[0.8888888888888888,\"#fdca26\"],[1.0,\"#f0f921\"]],\"sequentialminus\":[[0.0,\"#0d0887\"],[0.1111111111111111,\"#46039f\"],[0.2222222222222222,\"#7201a8\"],[0.3333333333333333,\"#9c179e\"],[0.4444444444444444,\"#bd3786\"],[0.5555555555555556,\"#d8576b\"],[0.6666666666666666,\"#ed7953\"],[0.7777777777777778,\"#fb9f3a\"],[0.8888888888888888,\"#fdca26\"],[1.0,\"#f0f921\"]]},\"colorway\":[\"#636efa\",\"#EF553B\",\"#00cc96\",\"#ab63fa\",\"#FFA15A\",\"#19d3f3\",\"#FF6692\",\"#B6E880\",\"#FF97FF\",\"#FECB52\"],\"font\":{\"color\":\"#2a3f5f\"},\"geo\":{\"bgcolor\":\"white\",\"lakecolor\":\"white\",\"landcolor\":\"#E5ECF6\",\"showlakes\":true,\"showland\":true,\"subunitcolor\":\"white\"},\"hoverlabel\":{\"align\":\"left\"},\"hovermode\":\"closest\",\"mapbox\":{\"style\":\"light\"},\"paper_bgcolor\":\"white\",\"plot_bgcolor\":\"#E5ECF6\",\"polar\":{\"angularaxis\":{\"gridcolor\":\"white\",\"linecolor\":\"white\",\"ticks\":\"\"},\"bgcolor\":\"#E5ECF6\",\"radialaxis\":{\"gridcolor\":\"white\",\"linecolor\":\"white\",\"ticks\":\"\"}},\"scene\":{\"xaxis\":{\"backgroundcolor\":\"#E5ECF6\",\"gridcolor\":\"white\",\"gridwidth\":2,\"linecolor\":\"white\",\"showbackground\":true,\"ticks\":\"\",\"zerolinecolor\":\"white\"},\"yaxis\":{\"backgroundcolor\":\"#E5ECF6\",\"gridcolor\":\"white\",\"gridwidth\":2,\"linecolor\":\"white\",\"showbackground\":true,\"ticks\":\"\",\"zerolinecolor\":\"white\"},\"zaxis\":{\"backgroundcolor\":\"#E5ECF6\",\"gridcolor\":\"white\",\"gridwidth\":2,\"linecolor\":\"white\",\"showbackground\":true,\"ticks\":\"\",\"zerolinecolor\":\"white\"}},\"shapedefaults\":{\"line\":{\"color\":\"#2a3f5f\"}},\"ternary\":{\"aaxis\":{\"gridcolor\":\"white\",\"linecolor\":\"white\",\"ticks\":\"\"},\"baxis\":{\"gridcolor\":\"white\",\"linecolor\":\"white\",\"ticks\":\"\"},\"bgcolor\":\"#E5ECF6\",\"caxis\":{\"gridcolor\":\"white\",\"linecolor\":\"white\",\"ticks\":\"\"}},\"title\":{\"x\":0.05},\"xaxis\":{\"automargin\":true,\"gridcolor\":\"white\",\"linecolor\":\"white\",\"ticks\":\"\",\"title\":{\"standoff\":15},\"zerolinecolor\":\"white\",\"zerolinewidth\":2},\"yaxis\":{\"automargin\":true,\"gridcolor\":\"white\",\"linecolor\":\"white\",\"ticks\":\"\",\"title\":{\"standoff\":15},\"zerolinecolor\":\"white\",\"zerolinewidth\":2}}},\"title\":{\"text\":\"Genetic Algorithm Results for Total Volume Occupied\",\"x\":0.5},\"width\":1000,\"xaxis\":{\"anchor\":\"y\",\"domain\":[0.0,1.0],\"title\":{\"text\":\"Generation No.\"}},\"yaxis\":{\"anchor\":\"x\",\"domain\":[0.0,1.0],\"title\":{\"text\":\"Total Space Used/m^3\"}}},                        {\"responsive\": true}                    ).then(function(){\n",
       "                            \n",
       "var gd = document.getElementById('126ddbd7-4c6f-4acb-8d9a-1fb685766634');\n",
       "var x = new MutationObserver(function (mutations, observer) {{\n",
       "        var display = window.getComputedStyle(gd).display;\n",
       "        if (!display || display === 'none') {{\n",
       "            console.log([gd, 'removed!']);\n",
       "            Plotly.purge(gd);\n",
       "            observer.disconnect();\n",
       "        }}\n",
       "}});\n",
       "\n",
       "// Listen for the removal of the full notebook cells\n",
       "var notebookContainer = gd.closest('#notebook-container');\n",
       "if (notebookContainer) {{\n",
       "    x.observe(notebookContainer, {childList: true});\n",
       "}}\n",
       "\n",
       "// Listen for the clearing of the current output cell\n",
       "var outputEl = gd.closest('.output');\n",
       "if (outputEl) {{\n",
       "    x.observe(outputEl, {childList: true});\n",
       "}}\n",
       "\n",
       "                        })                };                });            </script>        </div>"
      ]
     },
     "metadata": {},
     "output_type": "display_data"
    }
   ],
   "source": [
    "import plotly.express as px\n",
    "figure = px.line(x = range(0,101), y = ga.list_of_solutions_space, width=1000, height=500)\n",
    "figure.update_layout(title_text='Genetic Algorithm Results for Total Volume Occupied', title_x=0.5)\n",
    "figure.update_yaxes(title_text='Total Space Used/m^3')\n",
    "figure.update_xaxes(title_text='Generation No.')\n",
    "figure.update_traces(line_color='green')\n",
    "figure.add_hline(y=limit,line_dash=\"dash\", line_color=\"red\",annotation_text=\"Maximum Capacity\")\n",
    "\n",
    "figure.add_annotation(x=ga.best_solution.generation, y=ga.best_solution.used_space,\n",
    "            text=\"Maximum space used\",\n",
    "            showarrow=True,\n",
    "            arrowhead=2)\n",
    "\n",
    "\n",
    "figure.show()"
   ]
  },
  {
   "cell_type": "code",
   "execution_count": 84,
   "metadata": {},
   "outputs": [
    {
     "data": {
      "application/vnd.plotly.v1+json": {
       "config": {
        "plotlyServerURL": "https://plot.ly"
       },
       "data": [
        {
         "mode": "lines",
         "name": "Total Score",
         "type": "scatter",
         "x": [
          0,
          1,
          2,
          3,
          4,
          5,
          6,
          7,
          8,
          9,
          10,
          11,
          12,
          13,
          14,
          15,
          16,
          17,
          18,
          19,
          20,
          21,
          22,
          23,
          24,
          25,
          26,
          27,
          28,
          29,
          30,
          31,
          32,
          33,
          34,
          35,
          36,
          37,
          38,
          39,
          40,
          41,
          42,
          43,
          44,
          45,
          46,
          47,
          48,
          49,
          50,
          51,
          52,
          53,
          54,
          55,
          56,
          57,
          58,
          59,
          60,
          61,
          62,
          63,
          64,
          65,
          66,
          67,
          68,
          69,
          70,
          71,
          72,
          73,
          74,
          75,
          76,
          77,
          78,
          79,
          80,
          81,
          82,
          83,
          84,
          85,
          86,
          87,
          88,
          89,
          90,
          91,
          92,
          93,
          94,
          95,
          96,
          97,
          98,
          99,
          100
         ],
         "y": [
          27,
          14,
          21,
          21,
          21,
          27,
          25,
          17,
          27,
          25,
          22,
          23,
          23,
          27,
          27,
          31,
          23,
          22,
          26,
          26,
          20,
          28,
          32,
          28,
          31,
          31,
          28,
          27,
          25,
          26,
          25,
          31,
          28,
          30,
          31,
          24,
          27,
          30,
          30,
          29,
          26,
          1,
          29,
          27,
          30,
          31,
          34,
          30,
          30,
          25,
          31,
          31,
          31,
          31,
          27,
          31,
          27,
          30,
          28,
          29,
          27,
          29,
          26,
          26,
          26,
          25,
          23,
          26,
          25,
          26,
          27,
          26,
          26,
          26,
          24,
          24,
          27,
          18,
          28,
          30,
          24,
          24,
          28,
          1,
          25,
          30,
          30,
          31,
          30,
          29,
          29,
          29,
          30,
          29,
          25,
          19,
          24,
          24,
          24,
          22,
          20
         ]
        },
        {
         "line": {
          "color": "green"
         },
         "mode": "lines",
         "name": "Total Space Used/m^3",
         "type": "scatter",
         "x": [
          0,
          1,
          2,
          3,
          4,
          5,
          6,
          7,
          8,
          9,
          10,
          11,
          12,
          13,
          14,
          15,
          16,
          17,
          18,
          19,
          20,
          21,
          22,
          23,
          24,
          25,
          26,
          27,
          28,
          29,
          30,
          31,
          32,
          33,
          34,
          35,
          36,
          37,
          38,
          39,
          40,
          41,
          42,
          43,
          44,
          45,
          46,
          47,
          48,
          49,
          50,
          51,
          52,
          53,
          54,
          55,
          56,
          57,
          58,
          59,
          60,
          61,
          62,
          63,
          64,
          65,
          66,
          67,
          68,
          69,
          70,
          71,
          72,
          73,
          74,
          75,
          76,
          77,
          78,
          79,
          80,
          81,
          82,
          83,
          84,
          85,
          86,
          87,
          88,
          89,
          90,
          91,
          92,
          93,
          94,
          95,
          96,
          97,
          98,
          99,
          100
         ],
         "y": [
          2.8274,
          1.4264999999999999,
          2.2409,
          2.2409,
          2.5515,
          2.6868,
          2.3338,
          1.5908,
          2.6868,
          2.3338,
          2.2868000000000004,
          2.8899,
          2.3412,
          2.6868,
          2.6868,
          2.7412899,
          2.1165,
          2.2868000000000004,
          2.6987999999999994,
          2.6987999999999994,
          2.1457999999999995,
          2.7412,
          2.8862899,
          2.7412,
          2.7412899,
          2.7412899,
          2.7412,
          2.2451999999999996,
          2.3847899,
          2.3882,
          2.3847899,
          2.7412899,
          2.7412,
          2.6868898999999997,
          2.7412899,
          2.3303899,
          2.7377899,
          2.6868898999999997,
          2.7093898999999997,
          2.8392899,
          2.3412899,
          3.8707899,
          2.3882898999999997,
          2.7377899,
          2.2452899,
          2.7412899,
          2.9152899,
          2.9117899,
          2.9117899,
          2.6217899,
          2.7412899,
          2.7412899,
          2.7412899,
          2.7412899,
          2.7377899,
          2.7412899,
          2.7377899,
          2.7093898999999997,
          2.7412,
          2.6549898999999995,
          2.7377899,
          2.6549898999999995,
          2.3412899,
          2.7058899,
          2.7058899,
          2.9457899000000003,
          1.8358899,
          2.7058899,
          2.4193898999999996,
          2.7058899,
          2.5412898999999998,
          2.7058899,
          2.7058899,
          2.5093898999999995,
          2.1563898999999997,
          2.1563898999999997,
          2.5412898999999998,
          2.1377899,
          2.3563898999999995,
          2.7093898999999997,
          2.5412,
          2.3528898999999996,
          2.3563898999999995,
          3.4603899,
          1.4863898999999998,
          2.7093898999999997,
          2.7093898999999997,
          2.8543898999999997,
          2.7093898999999997,
          2.2133899,
          2.2133899,
          2.2133899,
          2.7093898999999997,
          2.2133899,
          1.4863898999999998,
          1.5703,
          1.9233898999999999,
          2.1563898999999997,
          2.1563898999999997,
          1.8452000000000002,
          1.9563
         ]
        }
       ],
       "layout": {
        "annotations": [
         {
          "showarrow": false,
          "text": "Maximum Capacity",
          "x": 1,
          "xanchor": "right",
          "xref": "x domain",
          "y": 3,
          "yanchor": "bottom",
          "yref": "y"
         },
         {
          "arrowhead": 2,
          "showarrow": true,
          "text": "Maximum space used",
          "x": 46,
          "y": 2.9152899
         },
         {
          "arrowhead": 2,
          "showarrow": true,
          "text": "Maximum score",
          "x": 46,
          "y": 34
         }
        ],
        "autosize": true,
        "height": 600,
        "shapes": [
         {
          "line": {
           "color": "red",
           "dash": "dash",
           "width": 0.7
          },
          "type": "line",
          "x0": 0,
          "x1": 1,
          "xref": "x domain",
          "y0": 3,
          "y1": 3,
          "yref": "y"
         }
        ],
        "template": {
         "data": {
          "bar": [
           {
            "error_x": {
             "color": "#2a3f5f"
            },
            "error_y": {
             "color": "#2a3f5f"
            },
            "marker": {
             "line": {
              "color": "#E5ECF6",
              "width": 0.5
             },
             "pattern": {
              "fillmode": "overlay",
              "size": 10,
              "solidity": 0.2
             }
            },
            "type": "bar"
           }
          ],
          "barpolar": [
           {
            "marker": {
             "line": {
              "color": "#E5ECF6",
              "width": 0.5
             },
             "pattern": {
              "fillmode": "overlay",
              "size": 10,
              "solidity": 0.2
             }
            },
            "type": "barpolar"
           }
          ],
          "carpet": [
           {
            "aaxis": {
             "endlinecolor": "#2a3f5f",
             "gridcolor": "white",
             "linecolor": "white",
             "minorgridcolor": "white",
             "startlinecolor": "#2a3f5f"
            },
            "baxis": {
             "endlinecolor": "#2a3f5f",
             "gridcolor": "white",
             "linecolor": "white",
             "minorgridcolor": "white",
             "startlinecolor": "#2a3f5f"
            },
            "type": "carpet"
           }
          ],
          "choropleth": [
           {
            "colorbar": {
             "outlinewidth": 0,
             "ticks": ""
            },
            "type": "choropleth"
           }
          ],
          "contour": [
           {
            "colorbar": {
             "outlinewidth": 0,
             "ticks": ""
            },
            "colorscale": [
             [
              0,
              "#0d0887"
             ],
             [
              0.1111111111111111,
              "#46039f"
             ],
             [
              0.2222222222222222,
              "#7201a8"
             ],
             [
              0.3333333333333333,
              "#9c179e"
             ],
             [
              0.4444444444444444,
              "#bd3786"
             ],
             [
              0.5555555555555556,
              "#d8576b"
             ],
             [
              0.6666666666666666,
              "#ed7953"
             ],
             [
              0.7777777777777778,
              "#fb9f3a"
             ],
             [
              0.8888888888888888,
              "#fdca26"
             ],
             [
              1,
              "#f0f921"
             ]
            ],
            "type": "contour"
           }
          ],
          "contourcarpet": [
           {
            "colorbar": {
             "outlinewidth": 0,
             "ticks": ""
            },
            "type": "contourcarpet"
           }
          ],
          "heatmap": [
           {
            "colorbar": {
             "outlinewidth": 0,
             "ticks": ""
            },
            "colorscale": [
             [
              0,
              "#0d0887"
             ],
             [
              0.1111111111111111,
              "#46039f"
             ],
             [
              0.2222222222222222,
              "#7201a8"
             ],
             [
              0.3333333333333333,
              "#9c179e"
             ],
             [
              0.4444444444444444,
              "#bd3786"
             ],
             [
              0.5555555555555556,
              "#d8576b"
             ],
             [
              0.6666666666666666,
              "#ed7953"
             ],
             [
              0.7777777777777778,
              "#fb9f3a"
             ],
             [
              0.8888888888888888,
              "#fdca26"
             ],
             [
              1,
              "#f0f921"
             ]
            ],
            "type": "heatmap"
           }
          ],
          "heatmapgl": [
           {
            "colorbar": {
             "outlinewidth": 0,
             "ticks": ""
            },
            "colorscale": [
             [
              0,
              "#0d0887"
             ],
             [
              0.1111111111111111,
              "#46039f"
             ],
             [
              0.2222222222222222,
              "#7201a8"
             ],
             [
              0.3333333333333333,
              "#9c179e"
             ],
             [
              0.4444444444444444,
              "#bd3786"
             ],
             [
              0.5555555555555556,
              "#d8576b"
             ],
             [
              0.6666666666666666,
              "#ed7953"
             ],
             [
              0.7777777777777778,
              "#fb9f3a"
             ],
             [
              0.8888888888888888,
              "#fdca26"
             ],
             [
              1,
              "#f0f921"
             ]
            ],
            "type": "heatmapgl"
           }
          ],
          "histogram": [
           {
            "marker": {
             "pattern": {
              "fillmode": "overlay",
              "size": 10,
              "solidity": 0.2
             }
            },
            "type": "histogram"
           }
          ],
          "histogram2d": [
           {
            "colorbar": {
             "outlinewidth": 0,
             "ticks": ""
            },
            "colorscale": [
             [
              0,
              "#0d0887"
             ],
             [
              0.1111111111111111,
              "#46039f"
             ],
             [
              0.2222222222222222,
              "#7201a8"
             ],
             [
              0.3333333333333333,
              "#9c179e"
             ],
             [
              0.4444444444444444,
              "#bd3786"
             ],
             [
              0.5555555555555556,
              "#d8576b"
             ],
             [
              0.6666666666666666,
              "#ed7953"
             ],
             [
              0.7777777777777778,
              "#fb9f3a"
             ],
             [
              0.8888888888888888,
              "#fdca26"
             ],
             [
              1,
              "#f0f921"
             ]
            ],
            "type": "histogram2d"
           }
          ],
          "histogram2dcontour": [
           {
            "colorbar": {
             "outlinewidth": 0,
             "ticks": ""
            },
            "colorscale": [
             [
              0,
              "#0d0887"
             ],
             [
              0.1111111111111111,
              "#46039f"
             ],
             [
              0.2222222222222222,
              "#7201a8"
             ],
             [
              0.3333333333333333,
              "#9c179e"
             ],
             [
              0.4444444444444444,
              "#bd3786"
             ],
             [
              0.5555555555555556,
              "#d8576b"
             ],
             [
              0.6666666666666666,
              "#ed7953"
             ],
             [
              0.7777777777777778,
              "#fb9f3a"
             ],
             [
              0.8888888888888888,
              "#fdca26"
             ],
             [
              1,
              "#f0f921"
             ]
            ],
            "type": "histogram2dcontour"
           }
          ],
          "mesh3d": [
           {
            "colorbar": {
             "outlinewidth": 0,
             "ticks": ""
            },
            "type": "mesh3d"
           }
          ],
          "parcoords": [
           {
            "line": {
             "colorbar": {
              "outlinewidth": 0,
              "ticks": ""
             }
            },
            "type": "parcoords"
           }
          ],
          "pie": [
           {
            "automargin": true,
            "type": "pie"
           }
          ],
          "scatter": [
           {
            "marker": {
             "colorbar": {
              "outlinewidth": 0,
              "ticks": ""
             }
            },
            "type": "scatter"
           }
          ],
          "scatter3d": [
           {
            "line": {
             "colorbar": {
              "outlinewidth": 0,
              "ticks": ""
             }
            },
            "marker": {
             "colorbar": {
              "outlinewidth": 0,
              "ticks": ""
             }
            },
            "type": "scatter3d"
           }
          ],
          "scattercarpet": [
           {
            "marker": {
             "colorbar": {
              "outlinewidth": 0,
              "ticks": ""
             }
            },
            "type": "scattercarpet"
           }
          ],
          "scattergeo": [
           {
            "marker": {
             "colorbar": {
              "outlinewidth": 0,
              "ticks": ""
             }
            },
            "type": "scattergeo"
           }
          ],
          "scattergl": [
           {
            "marker": {
             "colorbar": {
              "outlinewidth": 0,
              "ticks": ""
             }
            },
            "type": "scattergl"
           }
          ],
          "scattermapbox": [
           {
            "marker": {
             "colorbar": {
              "outlinewidth": 0,
              "ticks": ""
             }
            },
            "type": "scattermapbox"
           }
          ],
          "scatterpolar": [
           {
            "marker": {
             "colorbar": {
              "outlinewidth": 0,
              "ticks": ""
             }
            },
            "type": "scatterpolar"
           }
          ],
          "scatterpolargl": [
           {
            "marker": {
             "colorbar": {
              "outlinewidth": 0,
              "ticks": ""
             }
            },
            "type": "scatterpolargl"
           }
          ],
          "scatterternary": [
           {
            "marker": {
             "colorbar": {
              "outlinewidth": 0,
              "ticks": ""
             }
            },
            "type": "scatterternary"
           }
          ],
          "surface": [
           {
            "colorbar": {
             "outlinewidth": 0,
             "ticks": ""
            },
            "colorscale": [
             [
              0,
              "#0d0887"
             ],
             [
              0.1111111111111111,
              "#46039f"
             ],
             [
              0.2222222222222222,
              "#7201a8"
             ],
             [
              0.3333333333333333,
              "#9c179e"
             ],
             [
              0.4444444444444444,
              "#bd3786"
             ],
             [
              0.5555555555555556,
              "#d8576b"
             ],
             [
              0.6666666666666666,
              "#ed7953"
             ],
             [
              0.7777777777777778,
              "#fb9f3a"
             ],
             [
              0.8888888888888888,
              "#fdca26"
             ],
             [
              1,
              "#f0f921"
             ]
            ],
            "type": "surface"
           }
          ],
          "table": [
           {
            "cells": {
             "fill": {
              "color": "#EBF0F8"
             },
             "line": {
              "color": "white"
             }
            },
            "header": {
             "fill": {
              "color": "#C8D4E3"
             },
             "line": {
              "color": "white"
             }
            },
            "type": "table"
           }
          ]
         },
         "layout": {
          "annotationdefaults": {
           "arrowcolor": "#2a3f5f",
           "arrowhead": 0,
           "arrowwidth": 1
          },
          "autotypenumbers": "strict",
          "coloraxis": {
           "colorbar": {
            "outlinewidth": 0,
            "ticks": ""
           }
          },
          "colorscale": {
           "diverging": [
            [
             0,
             "#8e0152"
            ],
            [
             0.1,
             "#c51b7d"
            ],
            [
             0.2,
             "#de77ae"
            ],
            [
             0.3,
             "#f1b6da"
            ],
            [
             0.4,
             "#fde0ef"
            ],
            [
             0.5,
             "#f7f7f7"
            ],
            [
             0.6,
             "#e6f5d0"
            ],
            [
             0.7,
             "#b8e186"
            ],
            [
             0.8,
             "#7fbc41"
            ],
            [
             0.9,
             "#4d9221"
            ],
            [
             1,
             "#276419"
            ]
           ],
           "sequential": [
            [
             0,
             "#0d0887"
            ],
            [
             0.1111111111111111,
             "#46039f"
            ],
            [
             0.2222222222222222,
             "#7201a8"
            ],
            [
             0.3333333333333333,
             "#9c179e"
            ],
            [
             0.4444444444444444,
             "#bd3786"
            ],
            [
             0.5555555555555556,
             "#d8576b"
            ],
            [
             0.6666666666666666,
             "#ed7953"
            ],
            [
             0.7777777777777778,
             "#fb9f3a"
            ],
            [
             0.8888888888888888,
             "#fdca26"
            ],
            [
             1,
             "#f0f921"
            ]
           ],
           "sequentialminus": [
            [
             0,
             "#0d0887"
            ],
            [
             0.1111111111111111,
             "#46039f"
            ],
            [
             0.2222222222222222,
             "#7201a8"
            ],
            [
             0.3333333333333333,
             "#9c179e"
            ],
            [
             0.4444444444444444,
             "#bd3786"
            ],
            [
             0.5555555555555556,
             "#d8576b"
            ],
            [
             0.6666666666666666,
             "#ed7953"
            ],
            [
             0.7777777777777778,
             "#fb9f3a"
            ],
            [
             0.8888888888888888,
             "#fdca26"
            ],
            [
             1,
             "#f0f921"
            ]
           ]
          },
          "colorway": [
           "#636efa",
           "#EF553B",
           "#00cc96",
           "#ab63fa",
           "#FFA15A",
           "#19d3f3",
           "#FF6692",
           "#B6E880",
           "#FF97FF",
           "#FECB52"
          ],
          "font": {
           "color": "#2a3f5f"
          },
          "geo": {
           "bgcolor": "white",
           "lakecolor": "white",
           "landcolor": "#E5ECF6",
           "showlakes": true,
           "showland": true,
           "subunitcolor": "white"
          },
          "hoverlabel": {
           "align": "left"
          },
          "hovermode": "closest",
          "mapbox": {
           "style": "light"
          },
          "paper_bgcolor": "white",
          "plot_bgcolor": "#E5ECF6",
          "polar": {
           "angularaxis": {
            "gridcolor": "white",
            "linecolor": "white",
            "ticks": ""
           },
           "bgcolor": "#E5ECF6",
           "radialaxis": {
            "gridcolor": "white",
            "linecolor": "white",
            "ticks": ""
           }
          },
          "scene": {
           "xaxis": {
            "backgroundcolor": "#E5ECF6",
            "gridcolor": "white",
            "gridwidth": 2,
            "linecolor": "white",
            "showbackground": true,
            "ticks": "",
            "zerolinecolor": "white"
           },
           "yaxis": {
            "backgroundcolor": "#E5ECF6",
            "gridcolor": "white",
            "gridwidth": 2,
            "linecolor": "white",
            "showbackground": true,
            "ticks": "",
            "zerolinecolor": "white"
           },
           "zaxis": {
            "backgroundcolor": "#E5ECF6",
            "gridcolor": "white",
            "gridwidth": 2,
            "linecolor": "white",
            "showbackground": true,
            "ticks": "",
            "zerolinecolor": "white"
           }
          },
          "shapedefaults": {
           "line": {
            "color": "#2a3f5f"
           }
          },
          "ternary": {
           "aaxis": {
            "gridcolor": "white",
            "linecolor": "white",
            "ticks": ""
           },
           "baxis": {
            "gridcolor": "white",
            "linecolor": "white",
            "ticks": ""
           },
           "bgcolor": "#E5ECF6",
           "caxis": {
            "gridcolor": "white",
            "linecolor": "white",
            "ticks": ""
           }
          },
          "title": {
           "x": 0.05
          },
          "xaxis": {
           "automargin": true,
           "gridcolor": "white",
           "linecolor": "white",
           "ticks": "",
           "title": {
            "standoff": 15
           },
           "zerolinecolor": "white",
           "zerolinewidth": 2
          },
          "yaxis": {
           "automargin": true,
           "gridcolor": "white",
           "linecolor": "white",
           "ticks": "",
           "title": {
            "standoff": 15
           },
           "zerolinecolor": "white",
           "zerolinewidth": 2
          }
         }
        },
        "title": {
         "text": "Genetic Algorithm Results",
         "x": 0.46
        },
        "width": 1000,
        "xaxis": {
         "autorange": true,
         "range": [
          0,
          100
         ],
         "title": {
          "text": "Generation No."
         },
         "type": "linear"
        },
        "yaxis": {
         "autorange": true,
         "range": [
          -0.9249999999999998,
          37.575
         ],
         "title": {
          "text": "Total Value"
         },
         "type": "linear"
        }
       }
      },
      "image/png": "[encoded data removed]",
      "text/html": [
       "<div>                            <div id=\"9a67a504-a2b0-4e35-bb86-3f15d5f51150\" class=\"plotly-graph-div\" style=\"height:600px; width:1000px;\"></div>            <script type=\"text/javascript\">                require([\"plotly\"], function(Plotly) {                    window.PLOTLYENV=window.PLOTLYENV || {};                                    if (document.getElementById(\"9a67a504-a2b0-4e35-bb86-3f15d5f51150\")) {                    Plotly.newPlot(                        \"9a67a504-a2b0-4e35-bb86-3f15d5f51150\",                        [{\"mode\":\"lines\",\"name\":\"Total Score\",\"type\":\"scatter\",\"x\":[0,1,2,3,4,5,6,7,8,9,10,11,12,13,14,15,16,17,18,19,20,21,22,23,24,25,26,27,28,29,30,31,32,33,34,35,36,37,38,39,40,41,42,43,44,45,46,47,48,49,50,51,52,53,54,55,56,57,58,59,60,61,62,63,64,65,66,67,68,69,70,71,72,73,74,75,76,77,78,79,80,81,82,83,84,85,86,87,88,89,90,91,92,93,94,95,96,97,98,99,100],\"y\":[27,14,21,21,21,27,25,17,27,25,22,23,23,27,27,31,23,22,26,26,20,28,32,28,31,31,28,27,25,26,25,31,28,30,31,24,27,30,30,29,26,1,29,27,30,31,34,30,30,25,31,31,31,31,27,31,27,30,28,29,27,29,26,26,26,25,23,26,25,26,27,26,26,26,24,24,27,18,28,30,24,24,28,1,25,30,30,31,30,29,29,29,30,29,25,19,24,24,24,22,20]},{\"line\":{\"color\":\"green\"},\"mode\":\"lines\",\"name\":\"Total Space Used/m^3\",\"type\":\"scatter\",\"x\":[0,1,2,3,4,5,6,7,8,9,10,11,12,13,14,15,16,17,18,19,20,21,22,23,24,25,26,27,28,29,30,31,32,33,34,35,36,37,38,39,40,41,42,43,44,45,46,47,48,49,50,51,52,53,54,55,56,57,58,59,60,61,62,63,64,65,66,67,68,69,70,71,72,73,74,75,76,77,78,79,80,81,82,83,84,85,86,87,88,89,90,91,92,93,94,95,96,97,98,99,100],\"y\":[2.8274,1.4264999999999999,2.2409,2.2409,2.5515,2.6868,2.3338,1.5908,2.6868,2.3338,2.2868000000000004,2.8899,2.3412,2.6868,2.6868,2.7412899,2.1165,2.2868000000000004,2.6987999999999994,2.6987999999999994,2.1457999999999995,2.7412,2.8862899,2.7412,2.7412899,2.7412899,2.7412,2.2451999999999996,2.3847899,2.3882,2.3847899,2.7412899,2.7412,2.6868898999999997,2.7412899,2.3303899,2.7377899,2.6868898999999997,2.7093898999999997,2.8392899,2.3412899,3.8707899,2.3882898999999997,2.7377899,2.2452899,2.7412899,2.9152899,2.9117899,2.9117899,2.6217899,2.7412899,2.7412899,2.7412899,2.7412899,2.7377899,2.7412899,2.7377899,2.7093898999999997,2.7412,2.6549898999999995,2.7377899,2.6549898999999995,2.3412899,2.7058899,2.7058899,2.9457899000000003,1.8358899,2.7058899,2.4193898999999996,2.7058899,2.5412898999999998,2.7058899,2.7058899,2.5093898999999995,2.1563898999999997,2.1563898999999997,2.5412898999999998,2.1377899,2.3563898999999995,2.7093898999999997,2.5412,2.3528898999999996,2.3563898999999995,3.4603899,1.4863898999999998,2.7093898999999997,2.7093898999999997,2.8543898999999997,2.7093898999999997,2.2133899,2.2133899,2.2133899,2.7093898999999997,2.2133899,1.4863898999999998,1.5703,1.9233898999999999,2.1563898999999997,2.1563898999999997,1.8452000000000002,1.9563]}],                        {\"annotations\":[{\"showarrow\":false,\"text\":\"Maximum Capacity\",\"x\":1,\"xanchor\":\"right\",\"xref\":\"x domain\",\"y\":3,\"yanchor\":\"bottom\",\"yref\":\"y\"},{\"arrowhead\":2,\"showarrow\":true,\"text\":\"Maximum space used\",\"x\":46,\"y\":2.9152899},{\"arrowhead\":2,\"showarrow\":true,\"text\":\"Maximum score\",\"x\":46,\"y\":34}],\"autosize\":true,\"height\":600,\"shapes\":[{\"line\":{\"color\":\"red\",\"dash\":\"dash\",\"width\":0.7},\"type\":\"line\",\"x0\":0,\"x1\":1,\"xref\":\"x domain\",\"y0\":3,\"y1\":3,\"yref\":\"y\"}],\"template\":{\"data\":{\"bar\":[{\"error_x\":{\"color\":\"#2a3f5f\"},\"error_y\":{\"color\":\"#2a3f5f\"},\"marker\":{\"line\":{\"color\":\"#E5ECF6\",\"width\":0.5},\"pattern\":{\"fillmode\":\"overlay\",\"size\":10,\"solidity\":0.2}},\"type\":\"bar\"}],\"barpolar\":[{\"marker\":{\"line\":{\"color\":\"#E5ECF6\",\"width\":0.5},\"pattern\":{\"fillmode\":\"overlay\",\"size\":10,\"solidity\":0.2}},\"type\":\"barpolar\"}],\"carpet\":[{\"aaxis\":{\"endlinecolor\":\"#2a3f5f\",\"gridcolor\":\"white\",\"linecolor\":\"white\",\"minorgridcolor\":\"white\",\"startlinecolor\":\"#2a3f5f\"},\"baxis\":{\"endlinecolor\":\"#2a3f5f\",\"gridcolor\":\"white\",\"linecolor\":\"white\",\"minorgridcolor\":\"white\",\"startlinecolor\":\"#2a3f5f\"},\"type\":\"carpet\"}],\"choropleth\":[{\"colorbar\":{\"outlinewidth\":0,\"ticks\":\"\"},\"type\":\"choropleth\"}],\"contour\":[{\"colorbar\":{\"outlinewidth\":0,\"ticks\":\"\"},\"colorscale\":[[0.0,\"#0d0887\"],[0.1111111111111111,\"#46039f\"],[0.2222222222222222,\"#7201a8\"],[0.3333333333333333,\"#9c179e\"],[0.4444444444444444,\"#bd3786\"],[0.5555555555555556,\"#d8576b\"],[0.6666666666666666,\"#ed7953\"],[0.7777777777777778,\"#fb9f3a\"],[0.8888888888888888,\"#fdca26\"],[1.0,\"#f0f921\"]],\"type\":\"contour\"}],\"contourcarpet\":[{\"colorbar\":{\"outlinewidth\":0,\"ticks\":\"\"},\"type\":\"contourcarpet\"}],\"heatmap\":[{\"colorbar\":{\"outlinewidth\":0,\"ticks\":\"\"},\"colorscale\":[[0.0,\"#0d0887\"],[0.1111111111111111,\"#46039f\"],[0.2222222222222222,\"#7201a8\"],[0.3333333333333333,\"#9c179e\"],[0.4444444444444444,\"#bd3786\"],[0.5555555555555556,\"#d8576b\"],[0.6666666666666666,\"#ed7953\"],[0.7777777777777778,\"#fb9f3a\"],[0.8888888888888888,\"#fdca26\"],[1.0,\"#f0f921\"]],\"type\":\"heatmap\"}],\"heatmapgl\":[{\"colorbar\":{\"outlinewidth\":0,\"ticks\":\"\"},\"colorscale\":[[0.0,\"#0d0887\"],[0.1111111111111111,\"#46039f\"],[0.2222222222222222,\"#7201a8\"],[0.3333333333333333,\"#9c179e\"],[0.4444444444444444,\"#bd3786\"],[0.5555555555555556,\"#d8576b\"],[0.6666666666666666,\"#ed7953\"],[0.7777777777777778,\"#fb9f3a\"],[0.8888888888888888,\"#fdca26\"],[1.0,\"#f0f921\"]],\"type\":\"heatmapgl\"}],\"histogram\":[{\"marker\":{\"pattern\":{\"fillmode\":\"overlay\",\"size\":10,\"solidity\":0.2}},\"type\":\"histogram\"}],\"histogram2d\":[{\"colorbar\":{\"outlinewidth\":0,\"ticks\":\"\"},\"colorscale\":[[0.0,\"#0d0887\"],[0.1111111111111111,\"#46039f\"],[0.2222222222222222,\"#7201a8\"],[0.3333333333333333,\"#9c179e\"],[0.4444444444444444,\"#bd3786\"],[0.5555555555555556,\"#d8576b\"],[0.6666666666666666,\"#ed7953\"],[0.7777777777777778,\"#fb9f3a\"],[0.8888888888888888,\"#fdca26\"],[1.0,\"#f0f921\"]],\"type\":\"histogram2d\"}],\"histogram2dcontour\":[{\"colorbar\":{\"outlinewidth\":0,\"ticks\":\"\"},\"colorscale\":[[0.0,\"#0d0887\"],[0.1111111111111111,\"#46039f\"],[0.2222222222222222,\"#7201a8\"],[0.3333333333333333,\"#9c179e\"],[0.4444444444444444,\"#bd3786\"],[0.5555555555555556,\"#d8576b\"],[0.6666666666666666,\"#ed7953\"],[0.7777777777777778,\"#fb9f3a\"],[0.8888888888888888,\"#fdca26\"],[1.0,\"#f0f921\"]],\"type\":\"histogram2dcontour\"}],\"mesh3d\":[{\"colorbar\":{\"outlinewidth\":0,\"ticks\":\"\"},\"type\":\"mesh3d\"}],\"parcoords\":[{\"line\":{\"colorbar\":{\"outlinewidth\":0,\"ticks\":\"\"}},\"type\":\"parcoords\"}],\"pie\":[{\"automargin\":true,\"type\":\"pie\"}],\"scatter\":[{\"marker\":{\"colorbar\":{\"outlinewidth\":0,\"ticks\":\"\"}},\"type\":\"scatter\"}],\"scatter3d\":[{\"line\":{\"colorbar\":{\"outlinewidth\":0,\"ticks\":\"\"}},\"marker\":{\"colorbar\":{\"outlinewidth\":0,\"ticks\":\"\"}},\"type\":\"scatter3d\"}],\"scattercarpet\":[{\"marker\":{\"colorbar\":{\"outlinewidth\":0,\"ticks\":\"\"}},\"type\":\"scattercarpet\"}],\"scattergeo\":[{\"marker\":{\"colorbar\":{\"outlinewidth\":0,\"ticks\":\"\"}},\"type\":\"scattergeo\"}],\"scattergl\":[{\"marker\":{\"colorbar\":{\"outlinewidth\":0,\"ticks\":\"\"}},\"type\":\"scattergl\"}],\"scattermapbox\":[{\"marker\":{\"colorbar\":{\"outlinewidth\":0,\"ticks\":\"\"}},\"type\":\"scattermapbox\"}],\"scatterpolar\":[{\"marker\":{\"colorbar\":{\"outlinewidth\":0,\"ticks\":\"\"}},\"type\":\"scatterpolar\"}],\"scatterpolargl\":[{\"marker\":{\"colorbar\":{\"outlinewidth\":0,\"ticks\":\"\"}},\"type\":\"scatterpolargl\"}],\"scatterternary\":[{\"marker\":{\"colorbar\":{\"outlinewidth\":0,\"ticks\":\"\"}},\"type\":\"scatterternary\"}],\"surface\":[{\"colorbar\":{\"outlinewidth\":0,\"ticks\":\"\"},\"colorscale\":[[0.0,\"#0d0887\"],[0.1111111111111111,\"#46039f\"],[0.2222222222222222,\"#7201a8\"],[0.3333333333333333,\"#9c179e\"],[0.4444444444444444,\"#bd3786\"],[0.5555555555555556,\"#d8576b\"],[0.6666666666666666,\"#ed7953\"],[0.7777777777777778,\"#fb9f3a\"],[0.8888888888888888,\"#fdca26\"],[1.0,\"#f0f921\"]],\"type\":\"surface\"}],\"table\":[{\"cells\":{\"fill\":{\"color\":\"#EBF0F8\"},\"line\":{\"color\":\"white\"}},\"header\":{\"fill\":{\"color\":\"#C8D4E3\"},\"line\":{\"color\":\"white\"}},\"type\":\"table\"}]},\"layout\":{\"annotationdefaults\":{\"arrowcolor\":\"#2a3f5f\",\"arrowhead\":0,\"arrowwidth\":1},\"autotypenumbers\":\"strict\",\"coloraxis\":{\"colorbar\":{\"outlinewidth\":0,\"ticks\":\"\"}},\"colorscale\":{\"diverging\":[[0,\"#8e0152\"],[0.1,\"#c51b7d\"],[0.2,\"#de77ae\"],[0.3,\"#f1b6da\"],[0.4,\"#fde0ef\"],[0.5,\"#f7f7f7\"],[0.6,\"#e6f5d0\"],[0.7,\"#b8e186\"],[0.8,\"#7fbc41\"],[0.9,\"#4d9221\"],[1,\"#276419\"]],\"sequential\":[[0.0,\"#0d0887\"],[0.1111111111111111,\"#46039f\"],[0.2222222222222222,\"#7201a8\"],[0.3333333333333333,\"#9c179e\"],[0.4444444444444444,\"#bd3786\"],[0.5555555555555556,\"#d8576b\"],[0.6666666666666666,\"#ed7953\"],[0.7777777777777778,\"#fb9f3a\"],[0.8888888888888888,\"#fdca26\"],[1.0,\"#f0f921\"]],\"sequentialminus\":[[0.0,\"#0d0887\"],[0.1111111111111111,\"#46039f\"],[0.2222222222222222,\"#7201a8\"],[0.3333333333333333,\"#9c179e\"],[0.4444444444444444,\"#bd3786\"],[0.5555555555555556,\"#d8576b\"],[0.6666666666666666,\"#ed7953\"],[0.7777777777777778,\"#fb9f3a\"],[0.8888888888888888,\"#fdca26\"],[1.0,\"#f0f921\"]]},\"colorway\":[\"#636efa\",\"#EF553B\",\"#00cc96\",\"#ab63fa\",\"#FFA15A\",\"#19d3f3\",\"#FF6692\",\"#B6E880\",\"#FF97FF\",\"#FECB52\"],\"font\":{\"color\":\"#2a3f5f\"},\"geo\":{\"bgcolor\":\"white\",\"lakecolor\":\"white\",\"landcolor\":\"#E5ECF6\",\"showlakes\":true,\"showland\":true,\"subunitcolor\":\"white\"},\"hoverlabel\":{\"align\":\"left\"},\"hovermode\":\"closest\",\"mapbox\":{\"style\":\"light\"},\"paper_bgcolor\":\"white\",\"plot_bgcolor\":\"#E5ECF6\",\"polar\":{\"angularaxis\":{\"gridcolor\":\"white\",\"linecolor\":\"white\",\"ticks\":\"\"},\"bgcolor\":\"#E5ECF6\",\"radialaxis\":{\"gridcolor\":\"white\",\"linecolor\":\"white\",\"ticks\":\"\"}},\"scene\":{\"xaxis\":{\"backgroundcolor\":\"#E5ECF6\",\"gridcolor\":\"white\",\"gridwidth\":2,\"linecolor\":\"white\",\"showbackground\":true,\"ticks\":\"\",\"zerolinecolor\":\"white\"},\"yaxis\":{\"backgroundcolor\":\"#E5ECF6\",\"gridcolor\":\"white\",\"gridwidth\":2,\"linecolor\":\"white\",\"showbackground\":true,\"ticks\":\"\",\"zerolinecolor\":\"white\"},\"zaxis\":{\"backgroundcolor\":\"#E5ECF6\",\"gridcolor\":\"white\",\"gridwidth\":2,\"linecolor\":\"white\",\"showbackground\":true,\"ticks\":\"\",\"zerolinecolor\":\"white\"}},\"shapedefaults\":{\"line\":{\"color\":\"#2a3f5f\"}},\"ternary\":{\"aaxis\":{\"gridcolor\":\"white\",\"linecolor\":\"white\",\"ticks\":\"\"},\"baxis\":{\"gridcolor\":\"white\",\"linecolor\":\"white\",\"ticks\":\"\"},\"bgcolor\":\"#E5ECF6\",\"caxis\":{\"gridcolor\":\"white\",\"linecolor\":\"white\",\"ticks\":\"\"}},\"title\":{\"x\":0.05},\"xaxis\":{\"automargin\":true,\"gridcolor\":\"white\",\"linecolor\":\"white\",\"ticks\":\"\",\"title\":{\"standoff\":15},\"zerolinecolor\":\"white\",\"zerolinewidth\":2},\"yaxis\":{\"automargin\":true,\"gridcolor\":\"white\",\"linecolor\":\"white\",\"ticks\":\"\",\"title\":{\"standoff\":15},\"zerolinecolor\":\"white\",\"zerolinewidth\":2}}},\"title\":{\"text\":\"Genetic Algorithm Results\",\"x\":0.46},\"width\":1000,\"xaxis\":{\"title\":{\"text\":\"Generation No.\"}},\"yaxis\":{\"title\":{\"text\":\"Total Value\"}}},                        {\"responsive\": true}                    ).then(function(){\n",
       "                            \n",
       "var gd = document.getElementById('9a67a504-a2b0-4e35-bb86-3f15d5f51150');\n",
       "var x = new MutationObserver(function (mutations, observer) {{\n",
       "        var display = window.getComputedStyle(gd).display;\n",
       "        if (!display || display === 'none') {{\n",
       "            console.log([gd, 'removed!']);\n",
       "            Plotly.purge(gd);\n",
       "            observer.disconnect();\n",
       "        }}\n",
       "}});\n",
       "\n",
       "// Listen for the removal of the full notebook cells\n",
       "var notebookContainer = gd.closest('#notebook-container');\n",
       "if (notebookContainer) {{\n",
       "    x.observe(notebookContainer, {childList: true});\n",
       "}}\n",
       "\n",
       "// Listen for the clearing of the current output cell\n",
       "var outputEl = gd.closest('.output');\n",
       "if (outputEl) {{\n",
       "    x.observe(outputEl, {childList: true});\n",
       "}}\n",
       "\n",
       "                        })                };                });            </script>        </div>"
      ]
     },
     "metadata": {},
     "output_type": "display_data"
    }
   ],
   "source": [
    "import plotly.graph_objects as go\n",
    "\n",
    "fig = go.Figure()\n",
    "fig.add_trace(go.Scatter(x = list(range(0,101)), y= ga.list_of_solutions_score,\n",
    "                    mode='lines',\n",
    "                    name='Total Score'))\n",
    "fig.add_trace(go.Scatter(x = list(range(0,101)), y=ga.list_of_solutions_space,\n",
    "                    mode='lines',\n",
    "                    line_color = 'green',\n",
    "                    name='Total Space Used/m^3'))\n",
    "\n",
    "\n",
    "fig.update_layout(\n",
    "    autosize=True,\n",
    "    width=1000,\n",
    "    height=600,)\n",
    "\n",
    "fig.update_layout(title_text='Genetic Algorithm Results', title_x=0.46)\n",
    "fig.update_yaxes(title_text='Total Value')\n",
    "fig.update_xaxes(title_text='Generation No.')\n",
    "fig.add_hline(y=limit,line_dash=\"dash\", line_color=\"red\",annotation_text=\"Maximum Capacity\", line_width=0.7)\n",
    "\n",
    "fig.add_annotation(x=ga.best_solution.generation, y=ga.best_solution.used_space,\n",
    "            text=\"Maximum space used\",\n",
    "            showarrow=True,\n",
    "            arrowhead=2)\n",
    "\n",
    "\n",
    "fig.add_annotation(x=ga.best_solution.generation, y=ga.best_solution.score_evaluation,\n",
    "            text=\"Maximum score\",\n",
    "            showarrow=True,\n",
    "            arrowhead=2)\n",
    "              \n",
    "fig.show()"
   ]
  },
  {
   "cell_type": "code",
   "execution_count": null,
   "metadata": {},
   "outputs": [],
   "source": []
  }
 ],
 "metadata": {
  "kernelspec": {
   "display_name": "Python 3",
   "language": "python",
   "name": "python3"
  },
  "language_info": {
   "codemirror_mode": {
    "name": "ipython",
    "version": 3
   },
   "file_extension": ".py",
   "mimetype": "text/x-python",
   "name": "python",
   "nbconvert_exporter": "python",
   "pygments_lexer": "ipython3",
   "version": "3.8.5"
  }
 },
 "nbformat": 4,
 "nbformat_minor": 5
}
